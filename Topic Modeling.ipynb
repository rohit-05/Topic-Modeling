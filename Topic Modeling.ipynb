{
 "cells": [
  {
   "cell_type": "code",
   "execution_count": 3,
   "metadata": {},
   "outputs": [
    {
     "name": "stderr",
     "output_type": "stream",
     "text": [
      "[nltk_data] Downloading package stopwords to\n",
      "[nltk_data]     /Users/rohitbhardwaj/nltk_data...\n",
      "[nltk_data]   Unzipping corpora/stopwords.zip.\n",
      "[nltk_data] Downloading package stopwords to\n",
      "[nltk_data]     /Users/rohitbhardwaj/nltk_data...\n",
      "[nltk_data]   Package stopwords is already up-to-date!\n"
     ]
    }
   ],
   "source": [
    "import logging\n",
    "import gensim\n",
    "import smart_open\n",
    "from bs4 import BeautifulSoup\n",
    "from urllib.parse import urlparse\n",
    "from urllib.parse import urljoin\n",
    "from urllib.parse import urldefrag\n",
    "import urllib.robotparser\n",
    "from selenium import webdriver\n",
    "import wikipediaapi\n",
    "import requests\n",
    "import re\n",
    "import numpy\n",
    "from nltk import tokenize\n",
    "import nltk\n",
    "nltk.download('stopwords')\n",
    "from nltk.corpus import stopwords\n",
    "set(stopwords.words('english'))\n",
    "from sklearn.feature_extraction.text import CountVectorizer\n",
    "import spacy\n",
    "from spacy.lang.en import English\n",
    "parser = English()\n",
    "from gensim import corpora\n",
    "import pickle\n",
    "from nltk.corpus import wordnet as wn\n",
    "nltk.download('stopwords')\n",
    "en_stop = set(nltk.corpus.stopwords.words('english'))"
   ]
  },
  {
   "cell_type": "code",
   "execution_count": 4,
   "metadata": {},
   "outputs": [],
   "source": [
    "logging.basicConfig(format=\"%(asctime)s : %(levelname)s : %(message)s\", level=logging.INFO)"
   ]
  },
  {
   "cell_type": "code",
   "execution_count": 5,
   "metadata": {},
   "outputs": [],
   "source": [
    "id2word = gensim.corpora.Dictionary.load_from_text('/users/rohitbhardwaj/downloads/wiki/_wordids.txt')"
   ]
  },
  {
   "cell_type": "code",
   "execution_count": 6,
   "metadata": {},
   "outputs": [
    {
     "name": "stderr",
     "output_type": "stream",
     "text": [
      "2020-11-03 05:58:43,371 : INFO : loaded corpus index from /users/rohitbhardwaj/downloads/wiki/_tfidf.mm.index\n",
      "2020-11-03 05:58:43,373 : INFO : initializing cython corpus reader from /users/rohitbhardwaj/downloads/wiki/_tfidf.mm\n",
      "2020-11-03 05:58:43,375 : INFO : accepted corpus with 94865 documents, 33839 features, 8059980 non-zero entries\n"
     ]
    }
   ],
   "source": [
    "mm = gensim.corpora.MmCorpus('/users/rohitbhardwaj/downloads/wiki/_tfidf.mm')\n"
   ]
  },
  {
   "cell_type": "code",
   "execution_count": 7,
   "metadata": {},
   "outputs": [],
   "source": [
    "import parser"
   ]
  },
  {
   "cell_type": "code",
   "execution_count": 8,
   "metadata": {},
   "outputs": [],
   "source": [
    "from spacy.lang.en import English\n",
    "parser = English()"
   ]
  },
  {
   "cell_type": "code",
   "execution_count": 9,
   "metadata": {},
   "outputs": [
    {
     "name": "stderr",
     "output_type": "stream",
     "text": [
      "[nltk_data] Downloading package stopwords to\n",
      "[nltk_data]     /Users/rohitbhardwaj/nltk_data...\n",
      "[nltk_data]   Package stopwords is already up-to-date!\n"
     ]
    }
   ],
   "source": [
    "from gensim import corpora\n",
    "import pickle\n",
    "from nltk.corpus import wordnet as wn\n",
    "nltk.download('stopwords')\n",
    "en_stop = set(nltk.corpus.stopwords.words('english'))"
   ]
  },
  {
   "cell_type": "code",
   "execution_count": 10,
   "metadata": {},
   "outputs": [
    {
     "name": "stdout",
     "output_type": "stream",
     "text": [
      "MmCorpus(94865 documents, 33839 features, 8059980 non-zero entries)\n"
     ]
    }
   ],
   "source": [
    "print(mm)"
   ]
  },
  {
   "cell_type": "code",
   "execution_count": null,
   "metadata": {},
   "outputs": [],
   "source": []
  },
  {
   "cell_type": "code",
   "execution_count": 11,
   "metadata": {},
   "outputs": [
    {
     "name": "stderr",
     "output_type": "stream",
     "text": [
      "2020-11-03 05:58:44,538 : INFO : using symmetric alpha at 0.05\n",
      "2020-11-03 05:58:44,540 : INFO : using symmetric eta at 0.05\n",
      "2020-11-03 05:58:44,548 : INFO : using serial LDA version on this node\n",
      "2020-11-03 05:58:44,653 : INFO : running online (single-pass) LDA training, 20 topics, 1 passes over the supplied corpus of 94865 documents, updating model once every 2000 documents, evaluating perplexity every 20000 documents, iterating 50x with a convergence threshold of 0.001000\n",
      "2020-11-03 05:58:45,085 : INFO : PROGRESS: pass 0, at document #2000/94865\n",
      "2020-11-03 05:58:46,309 : INFO : merging changes from 2000 documents into a model of 94865 documents\n",
      "2020-11-03 05:58:46,386 : INFO : topic #13 (0.050): 0.002*\"sea\" + 0.002*\"china\" + 0.002*\"communist\" + 0.002*\"league\" + 0.002*\"premier\" + 0.002*\"park\" + 0.002*\"roman\" + 0.002*\"geometry\" + 0.002*\"word\" + 0.002*\"synonym\"\n",
      "2020-11-03 05:58:46,387 : INFO : topic #5 (0.050): 0.002*\"river\" + 0.002*\"english\" + 0.002*\"system\" + 0.002*\"animals\" + 0.002*\"war\" + 0.001*\"symbol\" + 0.001*\"bridge\" + 0.001*\"capital\" + 0.001*\"mississippi\" + 0.001*\"game\"\n",
      "2020-11-03 05:58:46,392 : INFO : topic #18 (0.050): 0.002*\"scotland\" + 0.002*\"things\" + 0.002*\"yorkshire\" + 0.002*\"saint\" + 0.001*\"person\" + 0.001*\"day\" + 0.001*\"make\" + 0.001*\"king\" + 0.001*\"do\" + 0.001*\"country\"\n",
      "2020-11-03 05:58:46,395 : INFO : topic #1 (0.050): 0.003*\"light\" + 0.002*\"president\" + 0.002*\"plymouth\" + 0.002*\"things\" + 0.002*\"word\" + 0.002*\"use\" + 0.002*\"water\" + 0.002*\"we\" + 0.002*\"person\" + 0.001*\"means\"\n",
      "2020-11-03 05:58:46,398 : INFO : topic #15 (0.050): 0.003*\"english\" + 0.003*\"war\" + 0.002*\"wood\" + 0.002*\"ocean\" + 0.002*\"change\" + 0.002*\"means\" + 0.002*\"use\" + 0.001*\"language\" + 0.001*\"system\" + 0.001*\"linux\"\n",
      "2020-11-03 05:58:46,403 : INFO : topic diff=15.439219, rho=1.000000\n",
      "2020-11-03 05:58:47,098 : INFO : PROGRESS: pass 0, at document #4000/94865\n",
      "2020-11-03 05:58:48,419 : INFO : merging changes from 2000 documents into a model of 94865 documents\n",
      "2020-11-03 05:58:48,452 : INFO : topic #15 (0.050): 0.003*\"vocals\" + 0.003*\"greece\" + 0.003*\"war\" + 0.002*\"album\" + 0.002*\"sea\" + 0.002*\"english\" + 0.002*\"guitar\" + 0.002*\"coast\" + 0.002*\"cairo\" + 0.002*\"attica\"\n",
      "2020-11-03 05:58:48,453 : INFO : topic #4 (0.050): 0.003*\"pope\" + 0.003*\"hex\" + 0.002*\"rgb\" + 0.002*\"number\" + 0.002*\"band\" + 0.002*\"engineering\" + 0.002*\"ep\" + 0.002*\"king\" + 0.002*\"catherine\" + 0.002*\"henry\"\n",
      "2020-11-03 05:58:48,455 : INFO : topic #10 (0.050): 0.005*\"singer\" + 0.005*\"actress\" + 0.005*\"actor\" + 0.004*\"german\" + 0.003*\"composer\" + 0.003*\"french\" + 0.003*\"nobel\" + 0.003*\"writer\" + 0.002*\"john\" + 0.002*\"minister\"\n",
      "2020-11-03 05:58:48,458 : INFO : topic #0 (0.050): 0.002*\"award\" + 0.002*\"equation\" + 0.002*\"pop\" + 0.002*\"chocolate\" + 0.002*\"nominated\" + 0.002*\"jesus\" + 0.002*\"diesel\" + 0.002*\"voice\" + 0.002*\"telephone\" + 0.002*\"actor\"\n",
      "2020-11-03 05:58:48,462 : INFO : topic #1 (0.050): 0.003*\"gay\" + 0.002*\"person\" + 0.002*\"calvin\" + 0.002*\"park\" + 0.002*\"coolidge\" + 0.002*\"lesbian\" + 0.002*\"jurassic\" + 0.002*\"sex\" + 0.002*\"county\" + 0.002*\"something\"\n",
      "2020-11-03 05:58:48,464 : INFO : topic diff=0.669450, rho=0.707107\n",
      "2020-11-03 05:58:48,767 : INFO : PROGRESS: pass 0, at document #6000/94865\n",
      "2020-11-03 05:58:50,030 : INFO : merging changes from 2000 documents into a model of 94865 documents\n",
      "2020-11-03 05:58:50,066 : INFO : topic #11 (0.050): 0.006*\"cream\" + 0.005*\"dogs\" + 0.005*\"dog\" + 0.003*\"team\" + 0.003*\"breed\" + 0.003*\"teams\" + 0.003*\"milk\" + 0.003*\"software\" + 0.002*\"game\" + 0.002*\"word\"\n",
      "2020-11-03 05:58:50,067 : INFO : topic #8 (0.050): 0.007*\"actor\" + 0.006*\"politician\" + 0.006*\"english\" + 0.006*\"french\" + 0.006*\"footballer\" + 0.006*\"german\" + 0.006*\"writer\" + 0.005*\"emperor\" + 0.005*\"italian\" + 0.005*\"singer\"\n",
      "2020-11-03 05:58:50,073 : INFO : topic #5 (0.050): 0.004*\"footballer\" + 0.004*\"english\" + 0.003*\"british\" + 0.003*\"french\" + 0.003*\"war\" + 0.003*\"german\" + 0.003*\"writer\" + 0.003*\"politician\" + 0.003*\"singer\" + 0.002*\"spanish\"\n",
      "2020-11-03 05:58:50,076 : INFO : topic #14 (0.050): 0.005*\"president\" + 0.003*\"war\" + 0.002*\"player\" + 0.002*\"footballer\" + 0.002*\"actress\" + 0.002*\"football\" + 0.002*\"election\" + 0.002*\"hockey\" + 0.002*\"florida\" + 0.002*\"british\"\n",
      "2020-11-03 05:58:50,078 : INFO : topic #19 (0.050): 0.003*\"body\" + 0.002*\"make\" + 0.002*\"person\" + 0.002*\"bones\" + 0.002*\"do\" + 0.002*\"blood\" + 0.002*\"penis\" + 0.002*\"what\" + 0.002*\"human\" + 0.002*\"bytes\"\n",
      "2020-11-03 05:58:50,083 : INFO : topic diff=0.449318, rho=0.577350\n",
      "2020-11-03 05:58:50,321 : INFO : PROGRESS: pass 0, at document #8000/94865\n",
      "2020-11-03 05:58:51,197 : INFO : merging changes from 2000 documents into a model of 94865 documents\n",
      "2020-11-03 05:58:51,235 : INFO : topic #7 (0.050): 0.007*\"mythology\" + 0.006*\"zeus\" + 0.004*\"computer\" + 0.004*\"gods\" + 0.004*\"titans\" + 0.004*\"god\" + 0.003*\"computers\" + 0.003*\"rhea\" + 0.003*\"greek\" + 0.003*\"religion\"\n",
      "2020-11-03 05:58:51,237 : INFO : topic #12 (0.050): 0.005*\"water\" + 0.005*\"fish\" + 0.003*\"whale\" + 0.003*\"food\" + 0.003*\"sauce\" + 0.003*\"operas\" + 0.002*\"bush\" + 0.002*\"halo\" + 0.002*\"bear\" + 0.002*\"usually\"\n",
      "2020-11-03 05:58:51,244 : INFO : topic #5 (0.050): 0.004*\"bc\" + 0.003*\"english\" + 0.003*\"war\" + 0.003*\"king\" + 0.002*\"british\" + 0.002*\"poland\" + 0.002*\"god\" + 0.002*\"french\" + 0.002*\"footballer\" + 0.002*\"german\"\n",
      "2020-11-03 05:58:51,245 : INFO : topic #10 (0.050): 0.006*\"band\" + 0.004*\"game\" + 0.004*\"punk\" + 0.003*\"singer\" + 0.003*\"music\" + 0.003*\"released\" + 0.003*\"rock\" + 0.002*\"album\" + 0.002*\"actor\" + 0.002*\"you\"\n",
      "2020-11-03 05:58:51,248 : INFO : topic #17 (0.050): 0.004*\"university\" + 0.003*\"soviet\" + 0.003*\"school\" + 0.002*\"war\" + 0.002*\"lake\" + 0.002*\"castle\" + 0.002*\"ford\" + 0.002*\"nuclear\" + 0.002*\"students\" + 0.002*\"apollo\"\n",
      "2020-11-03 05:58:51,250 : INFO : topic diff=0.415705, rho=0.500000\n",
      "2020-11-03 05:58:51,484 : INFO : PROGRESS: pass 0, at document #10000/94865\n",
      "2020-11-03 05:58:52,698 : INFO : merging changes from 2000 documents into a model of 94865 documents\n",
      "2020-11-03 05:58:52,779 : INFO : topic #13 (0.050): 0.007*\"sea\" + 0.006*\"windows\" + 0.004*\"climate\" + 0.004*\"shrimp\" + 0.004*\"jpg\" + 0.003*\"province\" + 0.003*\"http\" + 0.003*\"squid\" + 0.003*\"krill\" + 0.003*\"pluto\"\n",
      "2020-11-03 05:58:52,781 : INFO : topic #19 (0.050): 0.004*\"body\" + 0.004*\"blood\" + 0.004*\"animals\" + 0.003*\"species\" + 0.003*\"person\" + 0.003*\"usually\" + 0.003*\"do\" + 0.003*\"skin\" + 0.003*\"make\" + 0.003*\"human\"\n",
      "2020-11-03 05:58:52,784 : INFO : topic #9 (0.050): 0.006*\"jpg\" + 0.005*\"language\" + 0.004*\"image\" + 0.003*\"atoms\" + 0.003*\"municipality\" + 0.003*\"bird\" + 0.003*\"languages\" + 0.003*\"finland\" + 0.002*\"india\" + 0.002*\"file\"\n",
      "2020-11-03 05:58:52,788 : INFO : topic #4 (0.050): 0.003*\"god\" + 0.003*\"if\" + 0.002*\"him\" + 0.002*\"number\" + 0.002*\"will\" + 0.002*\"things\" + 0.002*\"person\" + 0.002*\"church\" + 0.002*\"numbers\" + 0.002*\"example\"\n",
      "2020-11-03 05:58:52,793 : INFO : topic #8 (0.050): 0.006*\"emperor\" + 0.005*\"king\" + 0.005*\"english\" + 0.005*\"music\" + 0.005*\"composer\" + 0.004*\"german\" + 0.004*\"french\" + 0.004*\"events\" + 0.004*\"john\" + 0.004*\"births\"\n",
      "2020-11-03 05:58:52,795 : INFO : topic diff=0.361352, rho=0.447214\n",
      "2020-11-03 05:58:53,054 : INFO : PROGRESS: pass 0, at document #12000/94865\n",
      "2020-11-03 05:58:53,989 : INFO : merging changes from 2000 documents into a model of 94865 documents\n",
      "2020-11-03 05:58:54,031 : INFO : topic #10 (0.050): 0.011*\"band\" + 0.005*\"album\" + 0.004*\"music\" + 0.004*\"dinosaur\" + 0.004*\"movie\" + 0.004*\"songs\" + 0.004*\"released\" + 0.004*\"rock\" + 0.003*\"game\" + 0.003*\"albums\"\n",
      "2020-11-03 05:58:54,032 : INFO : topic #11 (0.050): 0.010*\"league\" + 0.008*\"team\" + 0.007*\"football\" + 0.006*\"club\" + 0.006*\"dogs\" + 0.005*\"dog\" + 0.005*\"cheese\" + 0.005*\"manchester\" + 0.004*\"players\" + 0.004*\"cup\"\n",
      "2020-11-03 05:58:54,034 : INFO : topic #14 (0.050): 0.004*\"president\" + 0.003*\"party\" + 0.003*\"league\" + 0.002*\"stadium\" + 0.002*\"games\" + 0.002*\"team\" + 0.002*\"major\" + 0.002*\"won\" + 0.002*\"election\" + 0.002*\"government\"\n",
      "2020-11-03 05:58:54,036 : INFO : topic #4 (0.050): 0.003*\"god\" + 0.003*\"if\" + 0.003*\"will\" + 0.002*\"person\" + 0.002*\"him\" + 0.002*\"example\" + 0.002*\"number\" + 0.002*\"would\" + 0.002*\"numbers\" + 0.002*\"things\"\n",
      "2020-11-03 05:58:54,041 : INFO : topic #7 (0.050): 0.007*\"norse\" + 0.006*\"hex\" + 0.005*\"mythology\" + 0.005*\"computer\" + 0.005*\"rgb\" + 0.004*\"gods\" + 0.004*\"data\" + 0.004*\"odin\" + 0.004*\"bahá\" + 0.003*\"coburg\"\n"
     ]
    },
    {
     "name": "stderr",
     "output_type": "stream",
     "text": [
      "2020-11-03 05:58:54,046 : INFO : topic diff=0.350950, rho=0.408248\n",
      "2020-11-03 05:58:54,262 : INFO : PROGRESS: pass 0, at document #14000/94865\n",
      "2020-11-03 05:58:55,199 : INFO : merging changes from 2000 documents into a model of 94865 documents\n",
      "2020-11-03 05:58:55,258 : INFO : topic #6 (0.050): 0.006*\"solar\" + 0.004*\"game\" + 0.004*\"element\" + 0.003*\"fantasy\" + 0.003*\"series\" + 0.003*\"video\" + 0.003*\"television\" + 0.003*\"energy\" + 0.003*\"science\" + 0.003*\"production\"\n",
      "2020-11-03 05:58:55,260 : INFO : topic #0 (0.050): 0.010*\"music\" + 0.005*\"instruments\" + 0.004*\"string\" + 0.004*\"electric\" + 0.004*\"instrument\" + 0.004*\"sound\" + 0.004*\"signal\" + 0.004*\"piano\" + 0.003*\"note\" + 0.003*\"notes\"\n",
      "2020-11-03 05:58:55,262 : INFO : topic #18 (0.050): 0.003*\"scotland\" + 0.002*\"king\" + 0.002*\"iran\" + 0.002*\"scottish\" + 0.002*\"television\" + 0.002*\"mi²\" + 0.002*\"day\" + 0.001*\"actress\" + 0.001*\"john\" + 0.001*\"battle\"\n",
      "2020-11-03 05:58:55,266 : INFO : topic #14 (0.050): 0.004*\"president\" + 0.003*\"team\" + 0.003*\"won\" + 0.003*\"championship\" + 0.003*\"party\" + 0.003*\"league\" + 0.002*\"boxing\" + 0.002*\"games\" + 0.002*\"stadium\" + 0.002*\"company\"\n",
      "2020-11-03 05:58:55,268 : INFO : topic #1 (0.050): 0.007*\"chemical\" + 0.006*\"cells\" + 0.006*\"cell\" + 0.004*\"bacteria\" + 0.004*\"organisms\" + 0.004*\"compounds\" + 0.003*\"water\" + 0.003*\"metal\" + 0.003*\"bundesliga\" + 0.003*\"molecules\"\n",
      "2020-11-03 05:58:55,275 : INFO : topic diff=0.304661, rho=0.377964\n",
      "2020-11-03 05:58:55,619 : INFO : PROGRESS: pass 0, at document #16000/94865\n",
      "2020-11-03 05:58:56,384 : INFO : merging changes from 2000 documents into a model of 94865 documents\n",
      "2020-11-03 05:58:56,430 : INFO : topic #6 (0.050): 0.005*\"solar\" + 0.004*\"game\" + 0.004*\"series\" + 0.003*\"television\" + 0.003*\"element\" + 0.003*\"video\" + 0.003*\"fantasy\" + 0.003*\"energy\" + 0.003*\"computer\" + 0.003*\"movie\"\n",
      "2020-11-03 05:58:56,431 : INFO : topic #2 (0.050): 0.008*\"disease\" + 0.006*\"region\" + 0.006*\"virus\" + 0.005*\"nervous\" + 0.005*\"motorway\" + 0.005*\"drugs\" + 0.004*\"drug\" + 0.004*\"alcohol\" + 0.004*\"symptoms\" + 0.004*\"liver\"\n",
      "2020-11-03 05:58:56,433 : INFO : topic #13 (0.050): 0.010*\"sea\" + 0.006*\"windows\" + 0.005*\"http\" + 0.004*\"palm\" + 0.004*\"raven\" + 0.004*\"server\" + 0.004*\"median\" + 0.004*\"krill\" + 0.003*\"shrimp\" + 0.003*\"river\"\n",
      "2020-11-03 05:58:56,438 : INFO : topic #16 (0.050): 0.012*\"county\" + 0.009*\"arms\" + 0.008*\"borough\" + 0.007*\"coat\" + 0.007*\"area\" + 0.006*\"metropolitan\" + 0.006*\"square\" + 0.005*\"town\" + 0.005*\"census\" + 0.005*\"district\"\n",
      "2020-11-03 05:58:56,444 : INFO : topic #8 (0.050): 0.007*\"music\" + 0.006*\"king\" + 0.005*\"emperor\" + 0.004*\"john\" + 0.004*\"duke\" + 0.004*\"english\" + 0.004*\"births\" + 0.004*\"composer\" + 0.004*\"orchestra\" + 0.003*\"ii\"\n",
      "2020-11-03 05:58:56,446 : INFO : topic diff=0.300776, rho=0.353553\n",
      "2020-11-03 05:58:56,658 : INFO : PROGRESS: pass 0, at document #18000/94865\n",
      "2020-11-03 05:58:57,584 : INFO : merging changes from 2000 documents into a model of 94865 documents\n",
      "2020-11-03 05:58:57,624 : INFO : topic #16 (0.050): 0.016*\"county\" + 0.011*\"borough\" + 0.010*\"population\" + 0.010*\"district\" + 0.010*\"area\" + 0.008*\"arms\" + 0.007*\"metropolitan\" + 0.007*\"km²\" + 0.007*\"coat\" + 0.006*\"census\"\n",
      "2020-11-03 05:58:57,628 : INFO : topic #8 (0.050): 0.008*\"music\" + 0.005*\"king\" + 0.004*\"emperor\" + 0.004*\"composer\" + 0.004*\"john\" + 0.004*\"opera\" + 0.004*\"wrote\" + 0.003*\"german\" + 0.003*\"orchestra\" + 0.003*\"duke\"\n",
      "2020-11-03 05:58:57,630 : INFO : topic #3 (0.050): 0.003*\"war\" + 0.003*\"capital\" + 0.003*\"de\" + 0.003*\"empire\" + 0.003*\"republic\" + 0.003*\"country\" + 0.003*\"population\" + 0.003*\"province\" + 0.003*\"government\" + 0.003*\"islands\"\n",
      "2020-11-03 05:58:57,631 : INFO : topic #1 (0.050): 0.008*\"cell\" + 0.008*\"chemical\" + 0.007*\"dna\" + 0.007*\"cells\" + 0.004*\"hydrogen\" + 0.004*\"carbon\" + 0.004*\"bacteria\" + 0.004*\"organic\" + 0.003*\"material\" + 0.003*\"rna\"\n",
      "2020-11-03 05:58:57,634 : INFO : topic #2 (0.050): 0.008*\"ioc\" + 0.007*\"olympiad\" + 0.007*\"disease\" + 0.006*\"drug\" + 0.005*\"participating\" + 0.005*\"drugs\" + 0.005*\"region\" + 0.004*\"nervous\" + 0.004*\"virus\" + 0.004*\"alcohol\"\n",
      "2020-11-03 05:58:57,636 : INFO : topic diff=0.253181, rho=0.333333\n",
      "2020-11-03 05:58:59,895 : INFO : -13.556 per-word bound, 12041.0 perplexity estimate based on a held-out corpus of 2000 documents with 12528 words\n",
      "2020-11-03 05:58:59,895 : INFO : PROGRESS: pass 0, at document #20000/94865\n",
      "2020-11-03 05:59:00,655 : INFO : merging changes from 2000 documents into a model of 94865 documents\n",
      "2020-11-03 05:59:00,693 : INFO : topic #3 (0.050): 0.003*\"island\" + 0.003*\"de\" + 0.003*\"province\" + 0.003*\"war\" + 0.003*\"municipalities\" + 0.003*\"capital\" + 0.003*\"republic\" + 0.003*\"empire\" + 0.003*\"islands\" + 0.003*\"population\"\n",
      "2020-11-03 05:59:00,694 : INFO : topic #12 (0.050): 0.009*\"spherical\" + 0.008*\"water\" + 0.006*\"fish\" + 0.005*\"diameter\" + 0.005*\"fruit\" + 0.004*\"jupiter\" + 0.004*\"food\" + 0.003*\"plant\" + 0.003*\"mm\" + 0.003*\"soil\"\n",
      "2020-11-03 05:59:00,696 : INFO : topic #0 (0.050): 0.007*\"music\" + 0.006*\"sound\" + 0.006*\"instruments\" + 0.005*\"instrument\" + 0.004*\"electric\" + 0.004*\"organ\" + 0.004*\"electrical\" + 0.003*\"speed\" + 0.003*\"electronic\" + 0.003*\"signal\"\n",
      "2020-11-03 05:59:00,698 : INFO : topic #15 (0.050): 0.027*\"hurricane\" + 0.023*\"tropical\" + 0.019*\"storm\" + 0.009*\"cyclone\" + 0.008*\"atlantic\" + 0.006*\"winds\" + 0.006*\"cyclones\" + 0.005*\"vocals\" + 0.005*\"pacific\" + 0.005*\"weather\"\n",
      "2020-11-03 05:59:00,699 : INFO : topic #4 (0.050): 0.003*\"number\" + 0.003*\"god\" + 0.003*\"word\" + 0.002*\"if\" + 0.002*\"person\" + 0.002*\"will\" + 0.002*\"church\" + 0.002*\"him\" + 0.002*\"means\" + 0.002*\"what\"\n",
      "2020-11-03 05:59:00,700 : INFO : topic diff=0.251078, rho=0.316228\n",
      "2020-11-03 05:59:00,912 : INFO : PROGRESS: pass 0, at document #22000/94865\n",
      "2020-11-03 05:59:01,863 : INFO : merging changes from 2000 documents into a model of 94865 documents\n",
      "2020-11-03 05:59:01,900 : INFO : topic #1 (0.050): 0.035*\"ret\" + 0.008*\"chemical\" + 0.007*\"cell\" + 0.006*\"dna\" + 0.006*\"cells\" + 0.005*\"carbon\" + 0.004*\"chemistry\" + 0.004*\"bacteria\" + 0.004*\"organic\" + 0.003*\"hydrogen\"\n",
      "2020-11-03 05:59:01,901 : INFO : topic #12 (0.050): 0.009*\"water\" + 0.007*\"spherical\" + 0.006*\"fish\" + 0.004*\"fruit\" + 0.004*\"food\" + 0.004*\"plant\" + 0.004*\"diameter\" + 0.003*\"species\" + 0.003*\"plants\" + 0.003*\"jupiter\"\n",
      "2020-11-03 05:59:01,904 : INFO : topic #7 (0.050): 0.015*\"asteroid\" + 0.007*\"data\" + 0.006*\"computer\" + 0.005*\"pakistan\" + 0.005*\"coburg\" + 0.005*\"khyber\" + 0.005*\"pakhtunkhwa\" + 0.004*\"punjab\" + 0.004*\"computers\" + 0.004*\"storage\"\n",
      "2020-11-03 05:59:01,906 : INFO : topic #4 (0.050): 0.003*\"god\" + 0.003*\"word\" + 0.002*\"number\" + 0.002*\"if\" + 0.002*\"person\" + 0.002*\"him\" + 0.002*\"will\" + 0.002*\"what\" + 0.002*\"means\" + 0.002*\"way\"\n",
      "2020-11-03 05:59:01,908 : INFO : topic #17 (0.050): 0.008*\"university\" + 0.007*\"germany\" + 0.007*\"berlin\" + 0.007*\"cdu\" + 0.006*\"spd\" + 0.006*\"westphalia\" + 0.006*\"school\" + 0.006*\"building\" + 0.005*\"rhine\" + 0.005*\"castle\"\n",
      "2020-11-03 05:59:01,910 : INFO : topic diff=0.229866, rho=0.301511\n",
      "2020-11-03 05:59:02,101 : INFO : PROGRESS: pass 0, at document #24000/94865\n",
      "2020-11-03 05:59:02,772 : INFO : merging changes from 2000 documents into a model of 94865 documents\n",
      "2020-11-03 05:59:02,806 : INFO : topic #11 (0.050): 0.032*\"league\" + 0.019*\"football\" + 0.016*\"division\" + 0.016*\"club\" + 0.016*\"team\" + 0.014*\"trophy\" + 0.013*\"cup\" + 0.011*\"rangers\" + 0.010*\"goals\" + 0.009*\"stadium\"\n",
      "2020-11-03 05:59:02,807 : INFO : topic #18 (0.050): 0.003*\"doubles\" + 0.003*\"creek\" + 0.003*\"aberdeen\" + 0.003*\"scottish\" + 0.002*\"scotland\" + 0.002*\"series\" + 0.002*\"episode\" + 0.002*\"bart\" + 0.002*\"comics\" + 0.002*\"caliph\"\n",
      "2020-11-03 05:59:02,809 : INFO : topic #6 (0.050): 0.008*\"jupiter\" + 0.007*\"moon\" + 0.005*\"game\" + 0.005*\"orbital\" + 0.005*\"wwe\" + 0.005*\"saturn\" + 0.004*\"asteroids\" + 0.004*\"moons\" + 0.004*\"orbit\" + 0.004*\"orbits\"\n",
      "2020-11-03 05:59:02,811 : INFO : topic #10 (0.050): 0.010*\"album\" + 0.010*\"band\" + 0.006*\"released\" + 0.006*\"movie\" + 0.006*\"song\" + 0.005*\"music\" + 0.005*\"game\" + 0.005*\"rock\" + 0.005*\"guitar\" + 0.005*\"series\"\n",
      "2020-11-03 05:59:02,812 : INFO : topic #9 (0.050): 0.007*\"municipality\" + 0.007*\"municipalities\" + 0.006*\"language\" + 0.006*\"aircraft\" + 0.004*\"jpg\" + 0.004*\"languages\" + 0.004*\"dec\" + 0.004*\"image\" + 0.004*\"air\" + 0.003*\"alphabet\"\n"
     ]
    },
    {
     "name": "stderr",
     "output_type": "stream",
     "text": [
      "2020-11-03 05:59:02,814 : INFO : topic diff=0.206995, rho=0.288675\n",
      "2020-11-03 05:59:02,990 : INFO : PROGRESS: pass 0, at document #26000/94865\n",
      "2020-11-03 05:59:03,607 : INFO : merging changes from 2000 documents into a model of 94865 documents\n",
      "2020-11-03 05:59:03,641 : INFO : topic #0 (0.050): 0.005*\"music\" + 0.005*\"sound\" + 0.004*\"electric\" + 0.004*\"subfamily\" + 0.004*\"instruments\" + 0.004*\"device\" + 0.004*\"instrument\" + 0.004*\"circuit\" + 0.004*\"constituency\" + 0.003*\"use\"\n",
      "2020-11-03 05:59:03,643 : INFO : topic #12 (0.050): 0.008*\"water\" + 0.007*\"fish\" + 0.006*\"species\" + 0.005*\"serie\" + 0.005*\"plant\" + 0.004*\"fruit\" + 0.004*\"plants\" + 0.004*\"spherical\" + 0.004*\"food\" + 0.003*\"river\"\n",
      "2020-11-03 05:59:03,645 : INFO : topic #13 (0.050): 0.012*\"hawks\" + 0.008*\"river\" + 0.008*\"municipal\" + 0.007*\"sea\" + 0.006*\"penguins\" + 0.005*\"http\" + 0.005*\"palm\" + 0.005*\"sand\" + 0.005*\"suite\" + 0.005*\"cave\"\n",
      "2020-11-03 05:59:03,648 : INFO : topic #11 (0.050): 0.031*\"league\" + 0.023*\"division\" + 0.020*\"football\" + 0.016*\"stadium\" + 0.016*\"club\" + 0.016*\"team\" + 0.014*\"cup\" + 0.014*\"trophy\" + 0.011*\"premier\" + 0.011*\"rangers\"\n",
      "2020-11-03 05:59:03,649 : INFO : topic #10 (0.050): 0.012*\"album\" + 0.011*\"band\" + 0.008*\"released\" + 0.006*\"song\" + 0.006*\"rock\" + 0.006*\"game\" + 0.006*\"music\" + 0.006*\"movie\" + 0.005*\"guitar\" + 0.005*\"albums\"\n",
      "2020-11-03 05:59:03,651 : INFO : topic diff=0.187799, rho=0.277350\n",
      "2020-11-03 05:59:03,830 : INFO : PROGRESS: pass 0, at document #28000/94865\n",
      "2020-11-03 05:59:04,695 : INFO : merging changes from 2000 documents into a model of 94865 documents\n",
      "2020-11-03 05:59:04,729 : INFO : topic #13 (0.050): 0.011*\"hyderabad\" + 0.010*\"hawks\" + 0.007*\"municipal\" + 0.007*\"river\" + 0.007*\"penguins\" + 0.007*\"sea\" + 0.006*\"beach\" + 0.005*\"http\" + 0.004*\"cave\" + 0.004*\"server\"\n",
      "2020-11-03 05:59:04,731 : INFO : topic #8 (0.050): 0.006*\"music\" + 0.004*\"john\" + 0.004*\"king\" + 0.003*\"april\" + 0.003*\"wrote\" + 0.003*\"de\" + 0.003*\"charles\" + 0.003*\"february\" + 0.003*\"october\" + 0.003*\"william\"\n",
      "2020-11-03 05:59:04,733 : INFO : topic #5 (0.050): 0.004*\"church\" + 0.003*\"book\" + 0.003*\"bc\" + 0.003*\"jesus\" + 0.003*\"armenian\" + 0.002*\"god\" + 0.002*\"bible\" + 0.002*\"books\" + 0.002*\"ancient\" + 0.002*\"roman\"\n",
      "2020-11-03 05:59:04,734 : INFO : topic #2 (0.050): 0.013*\"loire\" + 0.011*\"rhône\" + 0.010*\"commune\" + 0.009*\"alpes\" + 0.006*\"departments\" + 0.006*\"altitude\" + 0.005*\"trauma\" + 0.005*\"tyrol\" + 0.005*\"emilia\" + 0.005*\"disease\"\n",
      "2020-11-03 05:59:04,736 : INFO : topic #15 (0.050): 0.031*\"hurricane\" + 0.021*\"nhl\" + 0.019*\"tropical\" + 0.017*\"storm\" + 0.016*\"vocals\" + 0.012*\"canadiens\" + 0.007*\"cyclone\" + 0.007*\"atlantic\" + 0.006*\"season\" + 0.006*\"pacific\"\n",
      "2020-11-03 05:59:04,739 : INFO : topic diff=0.166910, rho=0.267261\n",
      "2020-11-03 05:59:04,918 : INFO : PROGRESS: pass 0, at document #30000/94865\n",
      "2020-11-03 05:59:05,599 : INFO : merging changes from 2000 documents into a model of 94865 documents\n",
      "2020-11-03 05:59:05,635 : INFO : topic #17 (0.050): 0.018*\"university\" + 0.013*\"college\" + 0.012*\"liga\" + 0.010*\"school\" + 0.010*\"tallest\" + 0.007*\"buildings\" + 0.006*\"building\" + 0.006*\"bundesliga\" + 0.006*\"tower\" + 0.005*\"germany\"\n",
      "2020-11-03 05:59:05,636 : INFO : topic #1 (0.050): 0.018*\"locomotive\" + 0.016*\"ret\" + 0.009*\"cell\" + 0.007*\"carbon\" + 0.007*\"chemical\" + 0.006*\"cells\" + 0.005*\"bacteria\" + 0.005*\"dna\" + 0.004*\"molecules\" + 0.004*\"ferrari\"\n",
      "2020-11-03 05:59:05,638 : INFO : topic #4 (0.050): 0.002*\"if\" + 0.002*\"key\" + 0.002*\"person\" + 0.002*\"will\" + 0.002*\"him\" + 0.002*\"word\" + 0.002*\"book\" + 0.002*\"what\" + 0.002*\"would\" + 0.002*\"way\"\n",
      "2020-11-03 05:59:05,639 : INFO : topic #5 (0.050): 0.004*\"church\" + 0.003*\"book\" + 0.003*\"jesus\" + 0.003*\"bc\" + 0.002*\"god\" + 0.002*\"armenian\" + 0.002*\"bible\" + 0.002*\"roman\" + 0.002*\"books\" + 0.002*\"ancient\"\n",
      "2020-11-03 05:59:05,641 : INFO : topic #9 (0.050): 0.007*\"language\" + 0.006*\"river\" + 0.005*\"jpg\" + 0.005*\"alphabet\" + 0.005*\"languages\" + 0.005*\"aircraft\" + 0.005*\"wind\" + 0.004*\"glacier\" + 0.004*\"municipalities\" + 0.004*\"cyrillic\"\n",
      "2020-11-03 05:59:05,643 : INFO : topic diff=0.177232, rho=0.258199\n",
      "2020-11-03 05:59:05,819 : INFO : PROGRESS: pass 0, at document #32000/94865\n",
      "2020-11-03 05:59:06,507 : INFO : merging changes from 2000 documents into a model of 94865 documents\n",
      "2020-11-03 05:59:06,540 : INFO : topic #17 (0.050): 0.016*\"liga\" + 0.016*\"university\" + 0.012*\"school\" + 0.011*\"college\" + 0.011*\"tallest\" + 0.010*\"bundesliga\" + 0.008*\"jpg\" + 0.008*\"tower\" + 0.007*\"buildings\" + 0.007*\"image\"\n",
      "2020-11-03 05:59:06,542 : INFO : topic #16 (0.050): 0.043*\"county\" + 0.025*\"district\" + 0.015*\"river\" + 0.014*\"town\" + 0.013*\"towns\" + 0.013*\"coat\" + 0.013*\"census\" + 0.012*\"arms\" + 0.012*\"population\" + 0.011*\"area\"\n",
      "2020-11-03 05:59:06,544 : INFO : topic #8 (0.050): 0.009*\"orchestra\" + 0.008*\"music\" + 0.004*\"conductor\" + 0.003*\"king\" + 0.003*\"john\" + 0.003*\"prince\" + 0.003*\"piano\" + 0.003*\"opera\" + 0.003*\"symphony\" + 0.003*\"october\"\n",
      "2020-11-03 05:59:06,546 : INFO : topic #0 (0.050): 0.012*\"locomotives\" + 0.011*\"electric\" + 0.009*\"units\" + 0.006*\"diesel\" + 0.006*\"unit\" + 0.005*\"philharmonic\" + 0.005*\"protocol\" + 0.005*\"multiple\" + 0.004*\"use\" + 0.004*\"electrical\"\n",
      "2020-11-03 05:59:06,548 : INFO : topic #14 (0.050): 0.007*\"class\" + 0.007*\"station\" + 0.007*\"rail\" + 0.004*\"railway\" + 0.004*\"trains\" + 0.004*\"london\" + 0.004*\"team\" + 0.003*\"line\" + 0.003*\"championship\" + 0.003*\"british\"\n",
      "2020-11-03 05:59:06,550 : INFO : topic diff=0.142806, rho=0.250000\n",
      "2020-11-03 05:59:06,734 : INFO : PROGRESS: pass 0, at document #34000/94865\n",
      "2020-11-03 05:59:07,688 : INFO : merging changes from 2000 documents into a model of 94865 documents\n",
      "2020-11-03 05:59:07,729 : INFO : topic #10 (0.050): 0.012*\"album\" + 0.011*\"band\" + 0.008*\"released\" + 0.007*\"song\" + 0.007*\"movie\" + 0.006*\"rock\" + 0.006*\"music\" + 0.006*\"albums\" + 0.005*\"chart\" + 0.005*\"singles\"\n",
      "2020-11-03 05:59:07,730 : INFO : topic #19 (0.050): 0.008*\"species\" + 0.004*\"body\" + 0.004*\"animals\" + 0.003*\"family\" + 0.003*\"found\" + 0.003*\"usually\" + 0.003*\"birds\" + 0.003*\"genus\" + 0.003*\"blood\" + 0.003*\"plants\"\n",
      "2020-11-03 05:59:07,732 : INFO : topic #15 (0.050): 0.049*\"hurricane\" + 0.034*\"tropical\" + 0.032*\"storm\" + 0.020*\"nhl\" + 0.012*\"vocals\" + 0.011*\"depression\" + 0.011*\"atlantic\" + 0.010*\"season\" + 0.009*\"damage\" + 0.009*\"cyclone\"\n",
      "2020-11-03 05:59:07,736 : INFO : topic #11 (0.050): 0.071*\"league\" + 0.044*\"football\" + 0.035*\"statistics\" + 0.029*\"club\" + 0.029*\"career\" + 0.027*\"team\" + 0.024*\"division\" + 0.020*\"player\" + 0.019*\"premier\" + 0.015*\"total\"\n",
      "2020-11-03 05:59:07,738 : INFO : topic #0 (0.050): 0.013*\"segunda\" + 0.010*\"electric\" + 0.010*\"locomotives\" + 0.008*\"units\" + 0.005*\"unit\" + 0.005*\"diesel\" + 0.005*\"philharmonic\" + 0.004*\"use\" + 0.004*\"signal\" + 0.004*\"protocol\"\n",
      "2020-11-03 05:59:07,740 : INFO : topic diff=0.138469, rho=0.242536\n",
      "2020-11-03 05:59:07,956 : INFO : PROGRESS: pass 0, at document #36000/94865\n",
      "2020-11-03 05:59:08,616 : INFO : merging changes from 2000 documents into a model of 94865 documents\n",
      "2020-11-03 05:59:08,649 : INFO : topic #19 (0.050): 0.010*\"species\" + 0.004*\"animals\" + 0.004*\"body\" + 0.004*\"found\" + 0.003*\"family\" + 0.003*\"plants\" + 0.003*\"usually\" + 0.003*\"long\" + 0.003*\"genus\" + 0.003*\"birds\"\n",
      "2020-11-03 05:59:08,651 : INFO : topic #7 (0.050): 0.016*\"pakistan\" + 0.010*\"punjab\" + 0.009*\"khyber\" + 0.009*\"pakhtunkhwa\" + 0.008*\"disk\" + 0.007*\"sindh\" + 0.007*\"linux\" + 0.007*\"windows\" + 0.007*\"computer\" + 0.007*\"microsoft\"\n",
      "2020-11-03 05:59:08,654 : INFO : topic #2 (0.050): 0.030*\"commune\" + 0.012*\"rhône\" + 0.012*\"alpes\" + 0.009*\"auvergne\" + 0.008*\"syndrome\" + 0.008*\"virus\" + 0.007*\"wine\" + 0.007*\"department\" + 0.006*\"wines\" + 0.006*\"loire\"\n",
      "2020-11-03 05:59:08,656 : INFO : topic #0 (0.050): 0.011*\"segunda\" + 0.009*\"electric\" + 0.009*\"locomotives\" + 0.008*\"units\" + 0.006*\"subfamily\" + 0.005*\"unit\" + 0.004*\"signal\" + 0.004*\"use\" + 0.004*\"diesel\" + 0.004*\"philharmonic\"\n",
      "2020-11-03 05:59:08,657 : INFO : topic #12 (0.050): 0.019*\"serie\" + 0.010*\"species\" + 0.008*\"plant\" + 0.007*\"water\" + 0.007*\"fish\" + 0.006*\"plants\" + 0.005*\"food\" + 0.004*\"found\" + 0.004*\"sea\" + 0.004*\"flowers\"\n",
      "2020-11-03 05:59:08,661 : INFO : topic diff=0.139738, rho=0.235702\n",
      "2020-11-03 05:59:08,845 : INFO : PROGRESS: pass 0, at document #38000/94865\n"
     ]
    },
    {
     "name": "stderr",
     "output_type": "stream",
     "text": [
      "2020-11-03 05:59:09,579 : INFO : merging changes from 2000 documents into a model of 94865 documents\n",
      "2020-11-03 05:59:09,612 : INFO : topic #1 (0.050): 0.013*\"cell\" + 0.012*\"ret\" + 0.010*\"cells\" + 0.008*\"acid\" + 0.007*\"locomotive\" + 0.007*\"chromosomes\" + 0.007*\"dna\" + 0.007*\"chemical\" + 0.006*\"carbon\" + 0.005*\"ferrari\"\n",
      "2020-11-03 05:59:09,613 : INFO : topic #16 (0.050): 0.037*\"county\" + 0.023*\"district\" + 0.015*\"town\" + 0.015*\"river\" + 0.012*\"area\" + 0.011*\"towns\" + 0.010*\"census\" + 0.010*\"population\" + 0.010*\"coat\" + 0.009*\"arms\"\n",
      "2020-11-03 05:59:09,615 : INFO : topic #3 (0.050): 0.004*\"province\" + 0.004*\"town\" + 0.003*\"de\" + 0.003*\"island\" + 0.003*\"war\" + 0.003*\"river\" + 0.003*\"region\" + 0.003*\"area\" + 0.003*\"east\" + 0.003*\"population\"\n",
      "2020-11-03 05:59:09,619 : INFO : topic #17 (0.050): 0.033*\"liga\" + 0.024*\"bundesliga\" + 0.015*\"university\" + 0.012*\"school\" + 0.008*\"college\" + 0.007*\"students\" + 0.007*\"germany\" + 0.006*\"german\" + 0.006*\"tallest\" + 0.005*\"jpg\"\n",
      "2020-11-03 05:59:09,620 : INFO : topic #2 (0.050): 0.025*\"commune\" + 0.010*\"rhône\" + 0.009*\"alpes\" + 0.009*\"syndrome\" + 0.008*\"virus\" + 0.007*\"auvergne\" + 0.007*\"disease\" + 0.006*\"liver\" + 0.006*\"disorder\" + 0.006*\"wine\"\n",
      "2020-11-03 05:59:09,623 : INFO : topic diff=0.125668, rho=0.229416\n",
      "2020-11-03 05:59:11,455 : INFO : -13.865 per-word bound, 14922.5 perplexity estimate based on a held-out corpus of 2000 documents with 12084 words\n",
      "2020-11-03 05:59:11,456 : INFO : PROGRESS: pass 0, at document #40000/94865\n",
      "2020-11-03 05:59:12,128 : INFO : merging changes from 2000 documents into a model of 94865 documents\n",
      "2020-11-03 05:59:12,166 : INFO : topic #18 (0.050): 0.007*\"episode\" + 0.006*\"homer\" + 0.006*\"bart\" + 0.004*\"mclaren\" + 0.004*\"finals\" + 0.003*\"keith\" + 0.003*\"fu\" + 0.003*\"yankees\" + 0.003*\"santos\" + 0.003*\"veterans\"\n",
      "2020-11-03 05:59:12,168 : INFO : topic #0 (0.050): 0.008*\"segunda\" + 0.008*\"circuit\" + 0.007*\"engine\" + 0.006*\"electric\" + 0.006*\"battery\" + 0.006*\"locomotives\" + 0.005*\"units\" + 0.005*\"subfamily\" + 0.005*\"batteries\" + 0.004*\"computer\"\n",
      "2020-11-03 05:59:12,171 : INFO : topic #3 (0.050): 0.004*\"province\" + 0.003*\"war\" + 0.003*\"town\" + 0.003*\"island\" + 0.003*\"de\" + 0.003*\"river\" + 0.003*\"region\" + 0.003*\"area\" + 0.003*\"east\" + 0.003*\"population\"\n",
      "2020-11-03 05:59:12,172 : INFO : topic #14 (0.050): 0.006*\"hockey\" + 0.005*\"championship\" + 0.005*\"team\" + 0.005*\"wrestling\" + 0.005*\"kw\" + 0.005*\"station\" + 0.004*\"hp\" + 0.004*\"chess\" + 0.003*\"match\" + 0.003*\"line\"\n",
      "2020-11-03 05:59:12,175 : INFO : topic #9 (0.050): 0.007*\"river\" + 0.006*\"jpg\" + 0.006*\"file\" + 0.005*\"air\" + 0.005*\"language\" + 0.004*\"aircraft\" + 0.004*\"india\" + 0.004*\"svg\" + 0.003*\"lake\" + 0.003*\"mare\"\n",
      "2020-11-03 05:59:12,176 : INFO : topic diff=0.157437, rho=0.223607\n",
      "2020-11-03 05:59:12,429 : INFO : PROGRESS: pass 0, at document #42000/94865\n",
      "2020-11-03 05:59:12,993 : INFO : merging changes from 2000 documents into a model of 94865 documents\n",
      "2020-11-03 05:59:13,032 : INFO : topic #0 (0.050): 0.007*\"circuit\" + 0.007*\"segunda\" + 0.006*\"engine\" + 0.006*\"electric\" + 0.005*\"subfamily\" + 0.005*\"units\" + 0.005*\"battery\" + 0.005*\"locomotives\" + 0.004*\"batteries\" + 0.004*\"use\"\n",
      "2020-11-03 05:59:13,034 : INFO : topic #9 (0.050): 0.008*\"quarks\" + 0.007*\"air\" + 0.006*\"jpg\" + 0.006*\"airport\" + 0.006*\"river\" + 0.005*\"file\" + 0.005*\"orléans\" + 0.004*\"language\" + 0.004*\"aircraft\" + 0.004*\"oilers\"\n",
      "2020-11-03 05:59:13,037 : INFO : topic #7 (0.050): 0.012*\"pakistan\" + 0.010*\"windows\" + 0.010*\"cobalt\" + 0.008*\"operating\" + 0.007*\"punjab\" + 0.007*\"computer\" + 0.007*\"microsoft\" + 0.006*\"khyber\" + 0.006*\"disk\" + 0.006*\"pakhtunkhwa\"\n",
      "2020-11-03 05:59:13,040 : INFO : topic #19 (0.050): 0.010*\"species\" + 0.004*\"animals\" + 0.004*\"body\" + 0.004*\"found\" + 0.004*\"birds\" + 0.004*\"long\" + 0.004*\"genus\" + 0.003*\"tail\" + 0.003*\"large\" + 0.003*\"family\"\n",
      "2020-11-03 05:59:13,043 : INFO : topic #17 (0.050): 0.025*\"liga\" + 0.018*\"university\" + 0.017*\"bundesliga\" + 0.011*\"school\" + 0.008*\"college\" + 0.007*\"students\" + 0.006*\"german\" + 0.006*\"jpg\" + 0.006*\"germany\" + 0.006*\"insane\"\n",
      "2020-11-03 05:59:13,045 : INFO : topic diff=0.110389, rho=0.218218\n",
      "2020-11-03 05:59:13,274 : INFO : PROGRESS: pass 0, at document #44000/94865\n",
      "2020-11-03 05:59:13,979 : INFO : merging changes from 2000 documents into a model of 94865 documents\n",
      "2020-11-03 05:59:14,012 : INFO : topic #9 (0.050): 0.007*\"quarks\" + 0.007*\"air\" + 0.006*\"airport\" + 0.006*\"jpg\" + 0.005*\"file\" + 0.005*\"river\" + 0.004*\"orléans\" + 0.004*\"aircraft\" + 0.004*\"homo\" + 0.004*\"oilers\"\n",
      "2020-11-03 05:59:14,014 : INFO : topic #15 (0.050): 0.069*\"nhl\" + 0.027*\"hurricane\" + 0.022*\"storm\" + 0.022*\"tropical\" + 0.017*\"vocals\" + 0.012*\"canadiens\" + 0.010*\"backing\" + 0.008*\"cretaceous\" + 0.008*\"season\" + 0.007*\"fossils\"\n",
      "2020-11-03 05:59:14,016 : INFO : topic #16 (0.050): 0.041*\"county\" + 0.017*\"district\" + 0.015*\"town\" + 0.014*\"river\" + 0.010*\"census\" + 0.010*\"area\" + 0.009*\"population\" + 0.009*\"bridge\" + 0.008*\"miles\" + 0.008*\"towns\"\n",
      "2020-11-03 05:59:14,018 : INFO : topic #7 (0.050): 0.013*\"pakistan\" + 0.009*\"windows\" + 0.009*\"punjab\" + 0.008*\"cobalt\" + 0.007*\"microsoft\" + 0.007*\"operating\" + 0.006*\"sindh\" + 0.006*\"khyber\" + 0.006*\"computer\" + 0.006*\"pakhtunkhwa\"\n",
      "2020-11-03 05:59:14,020 : INFO : topic #3 (0.050): 0.003*\"island\" + 0.003*\"province\" + 0.003*\"town\" + 0.003*\"war\" + 0.003*\"area\" + 0.003*\"de\" + 0.003*\"river\" + 0.003*\"east\" + 0.003*\"government\" + 0.002*\"region\"\n",
      "2020-11-03 05:59:14,027 : INFO : topic diff=0.103752, rho=0.213201\n",
      "2020-11-03 05:59:14,211 : INFO : PROGRESS: pass 0, at document #46000/94865\n",
      "2020-11-03 05:59:14,790 : INFO : merging changes from 2000 documents into a model of 94865 documents\n",
      "2020-11-03 05:59:14,824 : INFO : topic #14 (0.050): 0.009*\"hockey\" + 0.007*\"olympic\" + 0.006*\"team\" + 0.006*\"games\" + 0.005*\"wrestling\" + 0.005*\"university\" + 0.005*\"championship\" + 0.005*\"athletics\" + 0.004*\"teams\" + 0.004*\"professional\"\n",
      "2020-11-03 05:59:14,825 : INFO : topic #16 (0.050): 0.038*\"county\" + 0.018*\"town\" + 0.015*\"district\" + 0.015*\"river\" + 0.010*\"area\" + 0.009*\"census\" + 0.009*\"population\" + 0.009*\"bridge\" + 0.008*\"miles\" + 0.007*\"towns\"\n",
      "2020-11-03 05:59:14,826 : INFO : topic #3 (0.050): 0.006*\"saint\" + 0.004*\"de\" + 0.003*\"sur\" + 0.003*\"la\" + 0.003*\"town\" + 0.003*\"war\" + 0.003*\"island\" + 0.003*\"area\" + 0.003*\"river\" + 0.003*\"province\"\n",
      "2020-11-03 05:59:14,828 : INFO : topic #10 (0.050): 0.013*\"album\" + 0.010*\"song\" + 0.009*\"movie\" + 0.009*\"band\" + 0.009*\"released\" + 0.005*\"albums\" + 0.005*\"chart\" + 0.005*\"music\" + 0.005*\"rock\" + 0.005*\"series\"\n",
      "2020-11-03 05:59:14,829 : INFO : topic #15 (0.050): 0.073*\"nhl\" + 0.025*\"hurricane\" + 0.020*\"tropical\" + 0.019*\"storm\" + 0.019*\"vocals\" + 0.012*\"canadiens\" + 0.010*\"backing\" + 0.008*\"fossils\" + 0.008*\"cretaceous\" + 0.007*\"season\"\n",
      "2020-11-03 05:59:14,831 : INFO : topic diff=0.094499, rho=0.208514\n",
      "2020-11-03 05:59:14,994 : INFO : PROGRESS: pass 0, at document #48000/94865\n",
      "2020-11-03 05:59:15,549 : INFO : merging changes from 2000 documents into a model of 94865 documents\n",
      "2020-11-03 05:59:15,582 : INFO : topic #17 (0.050): 0.027*\"university\" + 0.015*\"liga\" + 0.015*\"bundesliga\" + 0.011*\"school\" + 0.010*\"parish\" + 0.010*\"sv\" + 0.010*\"students\" + 0.008*\"college\" + 0.008*\"campus\" + 0.008*\"austrian\"\n",
      "2020-11-03 05:59:15,583 : INFO : topic #2 (0.050): 0.020*\"ioc\" + 0.015*\"commune\" + 0.013*\"innsbruck\" + 0.013*\"fever\" + 0.010*\"virus\" + 0.009*\"syndrome\" + 0.008*\"acute\" + 0.008*\"drug\" + 0.007*\"disease\" + 0.007*\"disorder\"\n",
      "2020-11-03 05:59:15,585 : INFO : topic #1 (0.050): 0.020*\"chemical\" + 0.017*\"acid\" + 0.012*\"formula\" + 0.012*\"sodium\" + 0.010*\"oxide\" + 0.010*\"compound\" + 0.009*\"ions\" + 0.009*\"chloride\" + 0.009*\"chemistry\" + 0.008*\"reaction\"\n",
      "2020-11-03 05:59:15,586 : INFO : topic #7 (0.050): 0.012*\"pakistan\" + 0.011*\"windows\" + 0.009*\"punjab\" + 0.007*\"microsoft\" + 0.007*\"sindh\" + 0.006*\"cobalt\" + 0.006*\"chromosome\" + 0.006*\"computer\" + 0.005*\"color\" + 0.005*\"operating\"\n",
      "2020-11-03 05:59:15,588 : INFO : topic #18 (0.050): 0.006*\"popes\" + 0.006*\"episode\" + 0.004*\"gaga\" + 0.004*\"pius\" + 0.003*\"cardinals\" + 0.003*\"homer\" + 0.003*\"doubles\" + 0.003*\"vocalist\" + 0.003*\"bart\" + 0.003*\"cbs\"\n",
      "2020-11-03 05:59:15,589 : INFO : topic diff=0.093743, rho=0.204124\n",
      "2020-11-03 05:59:15,757 : INFO : PROGRESS: pass 0, at document #50000/94865\n"
     ]
    },
    {
     "name": "stderr",
     "output_type": "stream",
     "text": [
      "2020-11-03 05:59:16,564 : INFO : merging changes from 2000 documents into a model of 94865 documents\n",
      "2020-11-03 05:59:16,614 : INFO : topic #2 (0.050): 0.018*\"commune\" + 0.017*\"ioc\" + 0.012*\"fever\" + 0.011*\"innsbruck\" + 0.009*\"virus\" + 0.008*\"syndrome\" + 0.008*\"disorder\" + 0.007*\"acute\" + 0.007*\"nervous\" + 0.007*\"drug\"\n",
      "2020-11-03 05:59:16,615 : INFO : topic #8 (0.050): 0.005*\"selena\" + 0.005*\"music\" + 0.004*\"opera\" + 0.003*\"de\" + 0.003*\"june\" + 0.003*\"july\" + 0.003*\"king\" + 0.003*\"married\" + 0.003*\"august\" + 0.003*\"december\"\n",
      "2020-11-03 05:59:16,617 : INFO : topic #9 (0.050): 0.021*\"airport\" + 0.008*\"air\" + 0.007*\"joseon\" + 0.006*\"aircraft\" + 0.005*\"cornwall\" + 0.005*\"jpg\" + 0.005*\"flights\" + 0.005*\"airline\" + 0.005*\"duo\" + 0.005*\"flight\"\n",
      "2020-11-03 05:59:16,619 : INFO : topic #11 (0.050): 0.050*\"league\" + 0.038*\"football\" + 0.026*\"club\" + 0.025*\"team\" + 0.019*\"cup\" + 0.018*\"career\" + 0.018*\"played\" + 0.018*\"statistics\" + 0.016*\"player\" + 0.014*\"division\"\n",
      "2020-11-03 05:59:16,621 : INFO : topic #1 (0.050): 0.019*\"chemical\" + 0.016*\"acid\" + 0.011*\"formula\" + 0.011*\"sodium\" + 0.010*\"oxide\" + 0.009*\"compound\" + 0.009*\"chemistry\" + 0.008*\"ions\" + 0.008*\"chloride\" + 0.008*\"reaction\"\n",
      "2020-11-03 05:59:16,626 : INFO : topic diff=0.100336, rho=0.200000\n",
      "2020-11-03 05:59:16,761 : INFO : PROGRESS: pass 0, at document #52000/94865\n",
      "2020-11-03 05:59:17,273 : INFO : merging changes from 2000 documents into a model of 94865 documents\n",
      "2020-11-03 05:59:17,307 : INFO : topic #6 (0.050): 0.007*\"wwe\" + 0.007*\"game\" + 0.006*\"space\" + 0.005*\"earth\" + 0.005*\"orbit\" + 0.004*\"energy\" + 0.004*\"light\" + 0.004*\"computer\" + 0.004*\"satellite\" + 0.004*\"nuclear\"\n",
      "2020-11-03 05:59:17,309 : INFO : topic #19 (0.050): 0.010*\"species\" + 0.005*\"birds\" + 0.004*\"body\" + 0.004*\"animals\" + 0.004*\"found\" + 0.003*\"salzburg\" + 0.003*\"genus\" + 0.003*\"long\" + 0.003*\"insects\" + 0.003*\"blood\"\n",
      "2020-11-03 05:59:17,311 : INFO : topic #2 (0.050): 0.020*\"commune\" + 0.015*\"ioc\" + 0.010*\"innsbruck\" + 0.010*\"fever\" + 0.009*\"virus\" + 0.009*\"disorder\" + 0.008*\"syndrome\" + 0.007*\"nervous\" + 0.006*\"tyrol\" + 0.006*\"acute\"\n",
      "2020-11-03 05:59:17,313 : INFO : topic #13 (0.050): 0.017*\"penguins\" + 0.013*\"hawks\" + 0.010*\"steelers\" + 0.009*\"municipal\" + 0.009*\"argentina\" + 0.009*\"sandstone\" + 0.008*\"argentine\" + 0.007*\"santiago\" + 0.006*\"chile\" + 0.006*\"theropod\"\n",
      "2020-11-03 05:59:17,315 : INFO : topic #14 (0.050): 0.007*\"hockey\" + 0.007*\"olympic\" + 0.006*\"games\" + 0.006*\"team\" + 0.004*\"university\" + 0.004*\"wrestling\" + 0.004*\"championship\" + 0.004*\"league\" + 0.004*\"won\" + 0.003*\"professional\"\n",
      "2020-11-03 05:59:17,322 : INFO : topic diff=0.112575, rho=0.196116\n",
      "2020-11-03 05:59:17,472 : INFO : PROGRESS: pass 0, at document #54000/94865\n",
      "2020-11-03 05:59:18,017 : INFO : merging changes from 2000 documents into a model of 94865 documents\n",
      "2020-11-03 05:59:18,056 : INFO : topic #2 (0.050): 0.017*\"commune\" + 0.014*\"ioc\" + 0.010*\"syndrome\" + 0.010*\"innsbruck\" + 0.009*\"disorder\" + 0.009*\"fever\" + 0.008*\"virus\" + 0.006*\"altitude\" + 0.006*\"symptoms\" + 0.006*\"acute\"\n",
      "2020-11-03 05:59:18,059 : INFO : topic #10 (0.050): 0.011*\"album\" + 0.010*\"movie\" + 0.009*\"song\" + 0.008*\"released\" + 0.007*\"band\" + 0.006*\"chart\" + 0.006*\"award\" + 0.005*\"television\" + 0.005*\"albums\" + 0.005*\"series\"\n",
      "2020-11-03 05:59:18,061 : INFO : topic #5 (0.050): 0.011*\"emperor\" + 0.005*\"roman\" + 0.005*\"bc\" + 0.005*\"calendar\" + 0.005*\"library\" + 0.005*\"pope\" + 0.004*\"era\" + 0.004*\"month\" + 0.003*\"japanese\" + 0.003*\"nd\"\n",
      "2020-11-03 05:59:18,063 : INFO : topic #1 (0.050): 0.018*\"chemical\" + 0.015*\"acid\" + 0.010*\"formula\" + 0.009*\"sodium\" + 0.009*\"oxide\" + 0.008*\"compound\" + 0.008*\"chemistry\" + 0.007*\"carbon\" + 0.007*\"ions\" + 0.007*\"reaction\"\n",
      "2020-11-03 05:59:18,065 : INFO : topic #14 (0.050): 0.007*\"olympic\" + 0.007*\"games\" + 0.006*\"olympics\" + 0.006*\"team\" + 0.006*\"hockey\" + 0.004*\"won\" + 0.004*\"medal\" + 0.004*\"wrestling\" + 0.004*\"university\" + 0.004*\"summer\"\n",
      "2020-11-03 05:59:18,068 : INFO : topic diff=0.095362, rho=0.192450\n",
      "2020-11-03 05:59:18,217 : INFO : PROGRESS: pass 0, at document #56000/94865\n",
      "2020-11-03 05:59:18,755 : INFO : merging changes from 2000 documents into a model of 94865 documents\n",
      "2020-11-03 05:59:18,789 : INFO : topic #1 (0.050): 0.016*\"chemical\" + 0.013*\"acid\" + 0.009*\"formula\" + 0.008*\"dna\" + 0.008*\"sodium\" + 0.008*\"chemistry\" + 0.008*\"cell\" + 0.008*\"oxide\" + 0.007*\"compound\" + 0.007*\"carbon\"\n",
      "2020-11-03 05:59:18,790 : INFO : topic #2 (0.050): 0.015*\"commune\" + 0.012*\"syndrome\" + 0.011*\"ioc\" + 0.009*\"disorder\" + 0.008*\"fever\" + 0.008*\"innsbruck\" + 0.007*\"virus\" + 0.006*\"symptoms\" + 0.005*\"infections\" + 0.005*\"acute\"\n",
      "2020-11-03 05:59:18,792 : INFO : topic #9 (0.050): 0.020*\"frog\" + 0.017*\"airport\" + 0.009*\"école\" + 0.009*\"joseon\" + 0.007*\"air\" + 0.006*\"india\" + 0.005*\"aircraft\" + 0.005*\"airline\" + 0.005*\"jpg\" + 0.005*\"duo\"\n",
      "2020-11-03 05:59:18,793 : INFO : topic #18 (0.050): 0.013*\"cbs\" + 0.009*\"nbc\" + 0.005*\"episode\" + 0.005*\"gay\" + 0.005*\"sitcom\" + 0.004*\"charts\" + 0.004*\"franchise\" + 0.004*\"popes\" + 0.004*\"fu\" + 0.003*\"descent\"\n",
      "2020-11-03 05:59:18,794 : INFO : topic #8 (0.050): 0.007*\"married\" + 0.004*\"july\" + 0.004*\"de\" + 0.004*\"music\" + 0.003*\"june\" + 0.003*\"august\" + 0.003*\"studied\" + 0.003*\"december\" + 0.003*\"john\" + 0.003*\"opera\"\n",
      "2020-11-03 05:59:18,796 : INFO : topic diff=0.089127, rho=0.188982\n",
      "2020-11-03 05:59:18,965 : INFO : PROGRESS: pass 0, at document #58000/94865\n",
      "2020-11-03 05:59:19,859 : INFO : merging changes from 2000 documents into a model of 94865 documents\n",
      "2020-11-03 05:59:19,894 : INFO : topic #19 (0.050): 0.013*\"species\" + 0.006*\"frogs\" + 0.005*\"genus\" + 0.005*\"birds\" + 0.004*\"found\" + 0.004*\"body\" + 0.004*\"animals\" + 0.004*\"family\" + 0.003*\"long\" + 0.003*\"small\"\n",
      "2020-11-03 05:59:19,895 : INFO : topic #14 (0.050): 0.007*\"games\" + 0.006*\"medal\" + 0.006*\"team\" + 0.006*\"hockey\" + 0.005*\"olympics\" + 0.005*\"olympic\" + 0.005*\"play\" + 0.005*\"chicago\" + 0.004*\"sports\" + 0.004*\"football\"\n",
      "2020-11-03 05:59:19,897 : INFO : topic #10 (0.050): 0.012*\"movie\" + 0.009*\"album\" + 0.008*\"television\" + 0.007*\"song\" + 0.006*\"released\" + 0.006*\"award\" + 0.006*\"voice\" + 0.006*\"actor\" + 0.006*\"series\" + 0.006*\"band\"\n",
      "2020-11-03 05:59:19,899 : INFO : topic #4 (0.050): 0.002*\"art\" + 0.002*\"work\" + 0.002*\"if\" + 0.002*\"person\" + 0.002*\"would\" + 0.002*\"will\" + 0.002*\"word\" + 0.002*\"painting\" + 0.002*\"do\" + 0.002*\"example\"\n",
      "2020-11-03 05:59:19,901 : INFO : topic #18 (0.050): 0.011*\"cbs\" + 0.008*\"nbc\" + 0.006*\"sergeant\" + 0.005*\"sitcom\" + 0.005*\"episode\" + 0.005*\"superman\" + 0.004*\"gay\" + 0.004*\"charts\" + 0.003*\"descent\" + 0.003*\"franchise\"\n",
      "2020-11-03 05:59:19,903 : INFO : topic diff=0.083587, rho=0.185695\n",
      "2020-11-03 05:59:21,613 : INFO : -13.855 per-word bound, 14813.1 perplexity estimate based on a held-out corpus of 2000 documents with 11417 words\n",
      "2020-11-03 05:59:21,613 : INFO : PROGRESS: pass 0, at document #60000/94865\n",
      "2020-11-03 05:59:22,368 : INFO : merging changes from 2000 documents into a model of 94865 documents\n",
      "2020-11-03 05:59:22,410 : INFO : topic #11 (0.050): 0.038*\"league\" + 0.034*\"football\" + 0.021*\"team\" + 0.021*\"club\" + 0.018*\"cup\" + 0.015*\"played\" + 0.014*\"player\" + 0.013*\"career\" + 0.012*\"goals\" + 0.012*\"nba\"\n",
      "2020-11-03 05:59:22,412 : INFO : topic #14 (0.050): 0.006*\"games\" + 0.006*\"hockey\" + 0.005*\"team\" + 0.005*\"medal\" + 0.005*\"chicago\" + 0.004*\"olympics\" + 0.004*\"olympic\" + 0.004*\"play\" + 0.004*\"university\" + 0.004*\"sports\"\n",
      "2020-11-03 05:59:22,415 : INFO : topic #5 (0.050): 0.008*\"emperor\" + 0.006*\"calendar\" + 0.005*\"pope\" + 0.005*\"divorced\" + 0.005*\"roman\" + 0.004*\"bc\" + 0.004*\"library\" + 0.003*\"church\" + 0.003*\"king\" + 0.003*\"japanese\"\n",
      "2020-11-03 05:59:22,420 : INFO : topic #16 (0.050): 0.055*\"county\" + 0.038*\"river\" + 0.016*\"district\" + 0.016*\"census\" + 0.016*\"px\" + 0.013*\"town\" + 0.011*\"bridge\" + 0.010*\"counties\" + 0.010*\"area\" + 0.009*\"highway\"\n",
      "2020-11-03 05:59:22,423 : INFO : topic #10 (0.050): 0.013*\"movie\" + 0.008*\"album\" + 0.008*\"television\" + 0.007*\"released\" + 0.007*\"song\" + 0.006*\"award\" + 0.006*\"series\" + 0.006*\"actor\" + 0.006*\"band\" + 0.005*\"voice\"\n",
      "2020-11-03 05:59:22,425 : INFO : topic diff=0.072000, rho=0.182574\n",
      "2020-11-03 05:59:22,565 : INFO : PROGRESS: pass 0, at document #62000/94865\n",
      "2020-11-03 05:59:23,109 : INFO : merging changes from 2000 documents into a model of 94865 documents\n"
     ]
    },
    {
     "name": "stderr",
     "output_type": "stream",
     "text": [
      "2020-11-03 05:59:23,150 : INFO : topic #13 (0.050): 0.033*\"toad\" + 0.019*\"hawks\" + 0.018*\"toads\" + 0.010*\"penguins\" + 0.009*\"municipal\" + 0.008*\"sandstone\" + 0.008*\"http\" + 0.008*\"org\" + 0.006*\"crab\" + 0.006*\"buenos\"\n",
      "2020-11-03 05:59:23,151 : INFO : topic #4 (0.050): 0.002*\"if\" + 0.002*\"competed\" + 0.002*\"person\" + 0.002*\"work\" + 0.002*\"would\" + 0.002*\"will\" + 0.002*\"art\" + 0.002*\"book\" + 0.002*\"word\" + 0.002*\"term\"\n",
      "2020-11-03 05:59:23,152 : INFO : topic #10 (0.050): 0.015*\"movie\" + 0.008*\"album\" + 0.007*\"television\" + 0.007*\"released\" + 0.007*\"song\" + 0.006*\"movies\" + 0.006*\"series\" + 0.006*\"award\" + 0.005*\"actress\" + 0.005*\"actor\"\n",
      "2020-11-03 05:59:23,155 : INFO : topic #8 (0.050): 0.008*\"married\" + 0.004*\"july\" + 0.004*\"studied\" + 0.004*\"june\" + 0.004*\"august\" + 0.004*\"york\" + 0.003*\"death\" + 0.003*\"de\" + 0.003*\"music\" + 0.003*\"children\"\n",
      "2020-11-03 05:59:23,156 : INFO : topic #14 (0.050): 0.006*\"summer\" + 0.006*\"hockey\" + 0.006*\"games\" + 0.005*\"team\" + 0.005*\"medal\" + 0.004*\"race\" + 0.004*\"chicago\" + 0.004*\"played\" + 0.004*\"party\" + 0.004*\"olympics\"\n",
      "2020-11-03 05:59:23,158 : INFO : topic diff=0.069305, rho=0.179605\n",
      "2020-11-03 05:59:23,281 : INFO : PROGRESS: pass 0, at document #64000/94865\n",
      "2020-11-03 05:59:24,137 : INFO : merging changes from 2000 documents into a model of 94865 documents\n",
      "2020-11-03 05:59:24,166 : INFO : topic #8 (0.050): 0.008*\"married\" + 0.004*\"studied\" + 0.004*\"july\" + 0.004*\"august\" + 0.004*\"death\" + 0.004*\"june\" + 0.004*\"york\" + 0.004*\"children\" + 0.003*\"music\" + 0.003*\"aged\"\n",
      "2020-11-03 05:59:24,167 : INFO : topic #0 (0.050): 0.006*\"machine\" + 0.006*\"function\" + 0.006*\"gun\" + 0.005*\"electric\" + 0.004*\"type\" + 0.004*\"circuit\" + 0.004*\"computer\" + 0.004*\"data\" + 0.004*\"audio\" + 0.004*\"electrical\"\n",
      "2020-11-03 05:59:24,169 : INFO : topic #15 (0.050): 0.049*\"nhl\" + 0.034*\"vocals\" + 0.022*\"hurricane\" + 0.018*\"storm\" + 0.014*\"tropical\" + 0.012*\"drums\" + 0.011*\"backing\" + 0.010*\"bass\" + 0.008*\"damage\" + 0.008*\"winds\"\n",
      "2020-11-03 05:59:24,171 : INFO : topic #17 (0.050): 0.027*\"university\" + 0.017*\"school\" + 0.017*\"college\" + 0.012*\"students\" + 0.009*\"museum\" + 0.008*\"parish\" + 0.008*\"institute\" + 0.007*\"education\" + 0.007*\"campus\" + 0.006*\"building\"\n",
      "2020-11-03 05:59:24,173 : INFO : topic #11 (0.050): 0.033*\"league\" + 0.032*\"football\" + 0.024*\"team\" + 0.021*\"club\" + 0.017*\"played\" + 0.016*\"cup\" + 0.014*\"player\" + 0.011*\"stadium\" + 0.011*\"career\" + 0.010*\"goals\"\n",
      "2020-11-03 05:59:24,175 : INFO : topic diff=0.060901, rho=0.176777\n",
      "2020-11-03 05:59:24,287 : INFO : PROGRESS: pass 0, at document #66000/94865\n",
      "2020-11-03 05:59:24,857 : INFO : merging changes from 2000 documents into a model of 94865 documents\n",
      "2020-11-03 05:59:24,907 : INFO : topic #11 (0.050): 0.031*\"league\" + 0.031*\"football\" + 0.024*\"team\" + 0.019*\"played\" + 0.019*\"club\" + 0.016*\"cup\" + 0.014*\"player\" + 0.011*\"career\" + 0.011*\"fc\" + 0.011*\"goals\"\n",
      "2020-11-03 05:59:24,908 : INFO : topic #13 (0.050): 0.023*\"toad\" + 0.020*\"hawks\" + 0.014*\"buenos\" + 0.014*\"aires\" + 0.013*\"toads\" + 0.011*\"http\" + 0.010*\"municipal\" + 0.010*\"penguins\" + 0.008*\"www\" + 0.007*\"org\"\n",
      "2020-11-03 05:59:24,910 : INFO : topic #8 (0.050): 0.007*\"married\" + 0.004*\"july\" + 0.004*\"studied\" + 0.004*\"aged\" + 0.004*\"august\" + 0.004*\"june\" + 0.003*\"death\" + 0.003*\"november\" + 0.003*\"december\" + 0.003*\"york\"\n",
      "2020-11-03 05:59:24,912 : INFO : topic #6 (0.050): 0.017*\"game\" + 0.011*\"wwe\" + 0.006*\"nintendo\" + 0.005*\"video\" + 0.005*\"earth\" + 0.005*\"space\" + 0.005*\"mario\" + 0.005*\"galaxy\" + 0.005*\"star\" + 0.004*\"system\"\n",
      "2020-11-03 05:59:24,915 : INFO : topic #14 (0.050): 0.006*\"election\" + 0.006*\"championship\" + 0.006*\"team\" + 0.005*\"hockey\" + 0.005*\"wrestling\" + 0.005*\"match\" + 0.005*\"games\" + 0.005*\"summer\" + 0.004*\"defeated\" + 0.004*\"party\"\n",
      "2020-11-03 05:59:24,920 : INFO : topic diff=0.066916, rho=0.174078\n",
      "2020-11-03 05:59:25,114 : INFO : PROGRESS: pass 0, at document #68000/94865\n",
      "2020-11-03 05:59:26,128 : INFO : merging changes from 2000 documents into a model of 94865 documents\n",
      "2020-11-03 05:59:26,156 : INFO : topic #14 (0.050): 0.006*\"hockey\" + 0.006*\"championship\" + 0.006*\"wrestling\" + 0.006*\"election\" + 0.005*\"president\" + 0.005*\"team\" + 0.005*\"party\" + 0.004*\"match\" + 0.004*\"games\" + 0.004*\"chicago\"\n",
      "2020-11-03 05:59:26,157 : INFO : topic #12 (0.050): 0.011*\"species\" + 0.009*\"fish\" + 0.008*\"water\" + 0.007*\"plant\" + 0.006*\"food\" + 0.005*\"plants\" + 0.005*\"shark\" + 0.004*\"genus\" + 0.004*\"genera\" + 0.004*\"zoo\"\n",
      "2020-11-03 05:59:26,160 : INFO : topic #1 (0.050): 0.011*\"chemical\" + 0.009*\"dna\" + 0.009*\"cell\" + 0.008*\"acid\" + 0.007*\"reaction\" + 0.007*\"molecule\" + 0.007*\"molecules\" + 0.007*\"carbon\" + 0.006*\"cells\" + 0.006*\"chemistry\"\n",
      "2020-11-03 05:59:26,161 : INFO : topic #3 (0.050): 0.004*\"province\" + 0.004*\"war\" + 0.003*\"de\" + 0.003*\"island\" + 0.003*\"river\" + 0.003*\"army\" + 0.003*\"area\" + 0.003*\"town\" + 0.002*\"municipality\" + 0.002*\"finland\"\n",
      "2020-11-03 05:59:26,163 : INFO : topic #2 (0.050): 0.016*\"syndrome\" + 0.009*\"ios\" + 0.009*\"disorder\" + 0.008*\"commune\" + 0.007*\"autism\" + 0.006*\"schizophrenia\" + 0.006*\"app\" + 0.006*\"bipolar\" + 0.005*\"psychiatry\" + 0.005*\"liver\"\n",
      "2020-11-03 05:59:26,165 : INFO : topic diff=0.061342, rho=0.171499\n",
      "2020-11-03 05:59:26,327 : INFO : PROGRESS: pass 0, at document #70000/94865\n",
      "2020-11-03 05:59:26,964 : INFO : merging changes from 2000 documents into a model of 94865 documents\n",
      "2020-11-03 05:59:26,994 : INFO : topic #17 (0.050): 0.027*\"university\" + 0.019*\"college\" + 0.016*\"school\" + 0.011*\"students\" + 0.008*\"building\" + 0.008*\"campus\" + 0.008*\"museum\" + 0.007*\"institute\" + 0.007*\"parish\" + 0.007*\"education\"\n",
      "2020-11-03 05:59:26,996 : INFO : topic #10 (0.050): 0.015*\"movie\" + 0.010*\"released\" + 0.010*\"album\" + 0.008*\"song\" + 0.007*\"band\" + 0.007*\"television\" + 0.006*\"actor\" + 0.005*\"movies\" + 0.005*\"series\" + 0.005*\"actress\"\n",
      "2020-11-03 05:59:26,997 : INFO : topic #15 (0.050): 0.059*\"nhl\" + 0.035*\"vocals\" + 0.017*\"storm\" + 0.017*\"hurricane\" + 0.014*\"bass\" + 0.012*\"drums\" + 0.011*\"tropical\" + 0.011*\"backing\" + 0.010*\"canadiens\" + 0.008*\"typhoon\"\n",
      "2020-11-03 05:59:26,999 : INFO : topic #0 (0.050): 0.008*\"function\" + 0.007*\"electrical\" + 0.006*\"electric\" + 0.006*\"power\" + 0.006*\"machine\" + 0.005*\"voltage\" + 0.005*\"electricity\" + 0.005*\"gun\" + 0.004*\"devices\" + 0.004*\"frequency\"\n",
      "2020-11-03 05:59:27,000 : INFO : topic #16 (0.050): 0.043*\"county\" + 0.026*\"river\" + 0.019*\"district\" + 0.016*\"bridge\" + 0.013*\"town\" + 0.012*\"census\" + 0.011*\"lake\" + 0.010*\"highway\" + 0.010*\"area\" + 0.010*\"px\"\n",
      "2020-11-03 05:59:27,003 : INFO : topic diff=0.062909, rho=0.169031\n",
      "2020-11-03 05:59:27,113 : INFO : PROGRESS: pass 0, at document #72000/94865\n",
      "2020-11-03 05:59:27,781 : INFO : merging changes from 2000 documents into a model of 94865 documents\n",
      "2020-11-03 05:59:27,811 : INFO : topic #1 (0.050): 0.011*\"cell\" + 0.010*\"chemical\" + 0.009*\"dna\" + 0.008*\"acid\" + 0.007*\"molecules\" + 0.007*\"cells\" + 0.007*\"carbon\" + 0.006*\"molecule\" + 0.006*\"reaction\" + 0.006*\"bacteria\"\n",
      "2020-11-03 05:59:27,812 : INFO : topic #7 (0.050): 0.022*\"disability\" + 0.017*\"punjab\" + 0.017*\"lahore\" + 0.013*\"pakistan\" + 0.008*\"erotic\" + 0.008*\"punjabi\" + 0.008*\"norse\" + 0.006*\"tributaries\" + 0.006*\"ram\" + 0.005*\"afghan\"\n",
      "2020-11-03 05:59:27,814 : INFO : topic #5 (0.050): 0.005*\"roman\" + 0.005*\"pope\" + 0.005*\"church\" + 0.004*\"bc\" + 0.004*\"interview\" + 0.004*\"emperor\" + 0.004*\"calendar\" + 0.004*\"catholic\" + 0.003*\"king\" + 0.003*\"divorced\"\n",
      "2020-11-03 05:59:27,816 : INFO : topic #9 (0.050): 0.017*\"airport\" + 0.017*\"aircraft\" + 0.011*\"air\" + 0.009*\"india\" + 0.008*\"flight\" + 0.007*\"indian\" + 0.007*\"frog\" + 0.007*\"plane\" + 0.005*\"airline\" + 0.005*\"tamil\"\n",
      "2020-11-03 05:59:27,818 : INFO : topic #8 (0.050): 0.007*\"aged\" + 0.006*\"married\" + 0.005*\"july\" + 0.005*\"august\" + 0.005*\"june\" + 0.004*\"september\" + 0.004*\"april\" + 0.004*\"february\" + 0.004*\"december\" + 0.004*\"de\"\n",
      "2020-11-03 05:59:27,820 : INFO : topic diff=0.049891, rho=0.166667\n",
      "2020-11-03 05:59:27,947 : INFO : PROGRESS: pass 0, at document #74000/94865\n",
      "2020-11-03 05:59:28,779 : INFO : merging changes from 2000 documents into a model of 94865 documents\n",
      "2020-11-03 05:59:28,809 : INFO : topic #12 (0.050): 0.011*\"species\" + 0.009*\"fish\" + 0.008*\"water\" + 0.006*\"plant\" + 0.006*\"food\" + 0.005*\"plants\" + 0.004*\"shark\" + 0.004*\"sea\" + 0.004*\"lake\" + 0.004*\"genera\"\n"
     ]
    },
    {
     "name": "stderr",
     "output_type": "stream",
     "text": [
      "2020-11-03 05:59:28,810 : INFO : topic #11 (0.050): 0.033*\"club\" + 0.027*\"football\" + 0.026*\"league\" + 0.025*\"team\" + 0.023*\"played\" + 0.021*\"cup\" + 0.014*\"soccer\" + 0.013*\"player\" + 0.012*\"goals\" + 0.010*\"fc\"\n",
      "2020-11-03 05:59:28,813 : INFO : topic #14 (0.050): 0.006*\"championship\" + 0.006*\"hockey\" + 0.005*\"team\" + 0.005*\"match\" + 0.005*\"election\" + 0.005*\"president\" + 0.005*\"party\" + 0.005*\"wrestling\" + 0.005*\"served\" + 0.004*\"politician\"\n",
      "2020-11-03 05:59:28,816 : INFO : topic #6 (0.050): 0.015*\"game\" + 0.009*\"wwe\" + 0.006*\"space\" + 0.005*\"star\" + 0.005*\"galaxy\" + 0.005*\"system\" + 0.005*\"nintendo\" + 0.005*\"mario\" + 0.004*\"video\" + 0.004*\"earth\"\n",
      "2020-11-03 05:59:28,818 : INFO : topic #7 (0.050): 0.019*\"disability\" + 0.015*\"punjab\" + 0.014*\"lahore\" + 0.011*\"pakistan\" + 0.008*\"afghan\" + 0.007*\"erotic\" + 0.007*\"tributaries\" + 0.007*\"afghanistan\" + 0.007*\"punjabi\" + 0.006*\"norse\"\n",
      "2020-11-03 05:59:28,820 : INFO : topic diff=0.047510, rho=0.164399\n",
      "2020-11-03 05:59:28,965 : INFO : PROGRESS: pass 0, at document #76000/94865\n",
      "2020-11-03 05:59:29,555 : INFO : merging changes from 2000 documents into a model of 94865 documents\n",
      "2020-11-03 05:59:29,586 : INFO : topic #3 (0.050): 0.005*\"de\" + 0.004*\"war\" + 0.003*\"saint\" + 0.003*\"river\" + 0.003*\"province\" + 0.003*\"island\" + 0.003*\"army\" + 0.003*\"town\" + 0.003*\"area\" + 0.003*\"department\"\n",
      "2020-11-03 05:59:29,588 : INFO : topic #12 (0.050): 0.010*\"species\" + 0.009*\"fish\" + 0.008*\"water\" + 0.006*\"food\" + 0.006*\"plant\" + 0.005*\"plants\" + 0.004*\"sea\" + 0.004*\"shark\" + 0.004*\"lake\" + 0.004*\"fruit\"\n",
      "2020-11-03 05:59:29,590 : INFO : topic #15 (0.050): 0.061*\"nhl\" + 0.038*\"vocals\" + 0.014*\"storm\" + 0.013*\"hurricane\" + 0.012*\"bass\" + 0.011*\"drums\" + 0.011*\"canadiens\" + 0.011*\"brazilian\" + 0.011*\"backing\" + 0.010*\"brazil\"\n",
      "2020-11-03 05:59:29,591 : INFO : topic #19 (0.050): 0.010*\"species\" + 0.005*\"genus\" + 0.004*\"wwf\" + 0.004*\"birds\" + 0.004*\"body\" + 0.004*\"found\" + 0.003*\"blood\" + 0.003*\"animals\" + 0.003*\"family\" + 0.003*\"cat\"\n",
      "2020-11-03 05:59:29,593 : INFO : topic #5 (0.050): 0.006*\"church\" + 0.005*\"interview\" + 0.005*\"roman\" + 0.004*\"pope\" + 0.004*\"bc\" + 0.004*\"catholic\" + 0.003*\"calendar\" + 0.003*\"king\" + 0.003*\"emperor\" + 0.003*\"manitoba\"\n",
      "2020-11-03 05:59:29,595 : INFO : topic diff=0.054313, rho=0.162221\n",
      "2020-11-03 05:59:29,726 : INFO : PROGRESS: pass 0, at document #78000/94865\n",
      "2020-11-03 05:59:30,412 : INFO : merging changes from 2000 documents into a model of 94865 documents\n",
      "2020-11-03 05:59:30,446 : INFO : topic #3 (0.050): 0.005*\"de\" + 0.004*\"war\" + 0.003*\"river\" + 0.003*\"province\" + 0.003*\"saint\" + 0.003*\"army\" + 0.003*\"island\" + 0.003*\"area\" + 0.003*\"department\" + 0.003*\"town\"\n",
      "2020-11-03 05:59:30,447 : INFO : topic #14 (0.050): 0.007*\"party\" + 0.005*\"served\" + 0.005*\"politician\" + 0.005*\"president\" + 0.005*\"championship\" + 0.005*\"team\" + 0.005*\"member\" + 0.005*\"election\" + 0.005*\"hockey\" + 0.004*\"governor\"\n",
      "2020-11-03 05:59:30,450 : INFO : topic #9 (0.050): 0.017*\"airport\" + 0.015*\"airline\" + 0.014*\"aircraft\" + 0.012*\"air\" + 0.010*\"india\" + 0.009*\"indian\" + 0.009*\"flight\" + 0.008*\"airbus\" + 0.007*\"file\" + 0.006*\"kerala\"\n",
      "2020-11-03 05:59:30,453 : INFO : topic #17 (0.050): 0.029*\"university\" + 0.019*\"school\" + 0.014*\"college\" + 0.010*\"students\" + 0.009*\"institute\" + 0.008*\"parish\" + 0.008*\"sciences\" + 0.008*\"education\" + 0.007*\"research\" + 0.007*\"campus\"\n",
      "2020-11-03 05:59:30,456 : INFO : topic #8 (0.050): 0.007*\"aged\" + 0.005*\"married\" + 0.004*\"july\" + 0.004*\"june\" + 0.004*\"april\" + 0.004*\"february\" + 0.004*\"august\" + 0.004*\"september\" + 0.004*\"december\" + 0.004*\"november\"\n",
      "2020-11-03 05:59:30,458 : INFO : topic diff=0.045108, rho=0.160128\n",
      "2020-11-03 05:59:32,039 : INFO : -13.860 per-word bound, 14870.2 perplexity estimate based on a held-out corpus of 2000 documents with 11718 words\n",
      "2020-11-03 05:59:32,040 : INFO : PROGRESS: pass 0, at document #80000/94865\n",
      "2020-11-03 05:59:32,564 : INFO : merging changes from 2000 documents into a model of 94865 documents\n",
      "2020-11-03 05:59:32,592 : INFO : topic #19 (0.050): 0.009*\"species\" + 0.004*\"genus\" + 0.004*\"blood\" + 0.004*\"body\" + 0.004*\"brain\" + 0.004*\"birds\" + 0.004*\"found\" + 0.003*\"common\" + 0.003*\"animals\" + 0.003*\"wwf\"\n",
      "2020-11-03 05:59:32,593 : INFO : topic #1 (0.050): 0.012*\"dna\" + 0.009*\"chemical\" + 0.009*\"cell\" + 0.008*\"cells\" + 0.007*\"bacteria\" + 0.007*\"acid\" + 0.006*\"carbon\" + 0.006*\"reaction\" + 0.005*\"molecules\" + 0.005*\"oxygen\"\n",
      "2020-11-03 05:59:32,594 : INFO : topic #6 (0.050): 0.015*\"game\" + 0.007*\"wwe\" + 0.006*\"computer\" + 0.006*\"galaxy\" + 0.006*\"star\" + 0.005*\"space\" + 0.005*\"system\" + 0.004*\"nintendo\" + 0.004*\"earth\" + 0.004*\"video\"\n",
      "2020-11-03 05:59:32,596 : INFO : topic #18 (0.050): 0.006*\"cbs\" + 0.006*\"nbc\" + 0.005*\"sitcom\" + 0.005*\"charts\" + 0.004*\"eurovision\" + 0.004*\"descent\" + 0.004*\"studio\" + 0.004*\"faculty\" + 0.004*\"lesbian\" + 0.004*\"wisconsin\"\n",
      "2020-11-03 05:59:32,598 : INFO : topic #12 (0.050): 0.010*\"fish\" + 0.010*\"species\" + 0.008*\"water\" + 0.006*\"food\" + 0.006*\"plant\" + 0.005*\"plants\" + 0.004*\"lake\" + 0.004*\"bio\" + 0.004*\"fruit\" + 0.004*\"sea\"\n",
      "2020-11-03 05:59:32,599 : INFO : topic diff=0.052323, rho=0.158114\n",
      "2020-11-03 05:59:32,725 : INFO : PROGRESS: pass 0, at document #82000/94865\n",
      "2020-11-03 05:59:33,248 : INFO : merging changes from 2000 documents into a model of 94865 documents\n",
      "2020-11-03 05:59:33,277 : INFO : topic #1 (0.050): 0.012*\"cell\" + 0.012*\"dna\" + 0.009*\"chemical\" + 0.009*\"cells\" + 0.008*\"acid\" + 0.007*\"carbon\" + 0.007*\"bacteria\" + 0.006*\"protein\" + 0.006*\"proteins\" + 0.005*\"reaction\"\n",
      "2020-11-03 05:59:33,279 : INFO : topic #19 (0.050): 0.008*\"species\" + 0.004*\"genus\" + 0.004*\"blood\" + 0.004*\"body\" + 0.004*\"brain\" + 0.003*\"birds\" + 0.003*\"found\" + 0.003*\"disease\" + 0.003*\"animals\" + 0.003*\"common\"\n",
      "2020-11-03 05:59:33,280 : INFO : topic #10 (0.050): 0.012*\"movie\" + 0.010*\"album\" + 0.009*\"song\" + 0.009*\"released\" + 0.006*\"television\" + 0.006*\"actor\" + 0.005*\"series\" + 0.005*\"band\" + 0.005*\"chart\" + 0.005*\"singer\"\n",
      "2020-11-03 05:59:33,282 : INFO : topic #11 (0.050): 0.030*\"football\" + 0.028*\"club\" + 0.027*\"team\" + 0.025*\"league\" + 0.025*\"cup\" + 0.025*\"played\" + 0.015*\"goals\" + 0.013*\"player\" + 0.012*\"footballer\" + 0.012*\"uefa\"\n",
      "2020-11-03 05:59:33,283 : INFO : topic #16 (0.050): 0.044*\"county\" + 0.021*\"river\" + 0.018*\"district\" + 0.014*\"census\" + 0.014*\"population\" + 0.014*\"highway\" + 0.012*\"area\" + 0.012*\"canton\" + 0.012*\"town\" + 0.010*\"bridge\"\n",
      "2020-11-03 05:59:33,285 : INFO : topic diff=0.055682, rho=0.156174\n",
      "2020-11-03 05:59:33,391 : INFO : PROGRESS: pass 0, at document #84000/94865\n",
      "2020-11-03 05:59:33,910 : INFO : merging changes from 2000 documents into a model of 94865 documents\n",
      "2020-11-03 05:59:33,949 : INFO : topic #18 (0.050): 0.006*\"cbs\" + 0.005*\"nbc\" + 0.005*\"descent\" + 0.004*\"utc\" + 0.004*\"faculty\" + 0.004*\"tehran\" + 0.004*\"sitcom\" + 0.004*\"gay\" + 0.004*\"sox\" + 0.004*\"pitcher\"\n",
      "2020-11-03 05:59:33,950 : INFO : topic #11 (0.050): 0.031*\"football\" + 0.027*\"team\" + 0.026*\"club\" + 0.026*\"played\" + 0.025*\"league\" + 0.024*\"cup\" + 0.014*\"goals\" + 0.013*\"player\" + 0.013*\"footballer\" + 0.011*\"fifa\"\n",
      "2020-11-03 05:59:33,951 : INFO : topic #19 (0.050): 0.008*\"species\" + 0.004*\"blood\" + 0.004*\"brain\" + 0.004*\"genus\" + 0.004*\"body\" + 0.003*\"birds\" + 0.003*\"found\" + 0.003*\"disease\" + 0.003*\"animals\" + 0.003*\"respiratory\"\n",
      "2020-11-03 05:59:33,953 : INFO : topic #16 (0.050): 0.042*\"county\" + 0.024*\"district\" + 0.020*\"river\" + 0.018*\"canton\" + 0.014*\"population\" + 0.013*\"census\" + 0.012*\"highway\" + 0.012*\"town\" + 0.012*\"area\" + 0.010*\"bridge\"\n",
      "2020-11-03 05:59:33,956 : INFO : topic #13 (0.050): 0.030*\"aires\" + 0.030*\"buenos\" + 0.022*\"argentine\" + 0.018*\"argentina\" + 0.015*\"hawks\" + 0.008*\"http\" + 0.008*\"www\" + 0.008*\"penguins\" + 0.007*\"hogan\" + 0.007*\"santiago\"\n",
      "2020-11-03 05:59:33,958 : INFO : topic diff=0.050826, rho=0.154303\n",
      "2020-11-03 05:59:34,149 : INFO : PROGRESS: pass 0, at document #86000/94865\n",
      "2020-11-03 05:59:34,741 : INFO : merging changes from 2000 documents into a model of 94865 documents\n",
      "2020-11-03 05:59:34,768 : INFO : topic #19 (0.050): 0.007*\"species\" + 0.004*\"blood\" + 0.004*\"brain\" + 0.004*\"genus\" + 0.004*\"body\" + 0.003*\"found\" + 0.003*\"birds\" + 0.003*\"disease\" + 0.003*\"respiratory\" + 0.003*\"skin\"\n",
      "2020-11-03 05:59:34,770 : INFO : topic #10 (0.050): 0.012*\"movie\" + 0.009*\"album\" + 0.009*\"song\" + 0.008*\"released\" + 0.006*\"television\" + 0.006*\"actor\" + 0.005*\"singer\" + 0.005*\"series\" + 0.005*\"award\" + 0.005*\"chart\"\n"
     ]
    },
    {
     "name": "stderr",
     "output_type": "stream",
     "text": [
      "2020-11-03 05:59:34,771 : INFO : topic #13 (0.050): 0.029*\"aires\" + 0.029*\"buenos\" + 0.021*\"argentine\" + 0.017*\"argentina\" + 0.015*\"hawks\" + 0.014*\"http\" + 0.010*\"www\" + 0.009*\"hyderabad\" + 0.008*\"penguins\" + 0.007*\"chola\"\n",
      "2020-11-03 05:59:34,772 : INFO : topic #18 (0.050): 0.006*\"nbc\" + 0.005*\"cbs\" + 0.005*\"descent\" + 0.005*\"faculty\" + 0.004*\"tehran\" + 0.004*\"utc\" + 0.004*\"sitcom\" + 0.004*\"administrator\" + 0.004*\"eurovision\" + 0.004*\"comics\"\n",
      "2020-11-03 05:59:34,773 : INFO : topic #3 (0.050): 0.005*\"de\" + 0.005*\"saint\" + 0.005*\"district\" + 0.004*\"department\" + 0.004*\"population\" + 0.004*\"province\" + 0.004*\"bar\" + 0.004*\"municipality\" + 0.004*\"war\" + 0.003*\"jpg\"\n",
      "2020-11-03 05:59:34,775 : INFO : topic diff=0.052992, rho=0.152499\n",
      "2020-11-03 05:59:34,876 : INFO : PROGRESS: pass 0, at document #88000/94865\n",
      "2020-11-03 05:59:35,376 : INFO : merging changes from 2000 documents into a model of 94865 documents\n",
      "2020-11-03 05:59:35,404 : INFO : topic #0 (0.050): 0.009*\"constituency\" + 0.007*\"function\" + 0.007*\"rifle\" + 0.006*\"circuit\" + 0.005*\"gun\" + 0.005*\"electric\" + 0.005*\"electrical\" + 0.005*\"theorem\" + 0.004*\"qualify\" + 0.004*\"device\"\n",
      "2020-11-03 05:59:35,406 : INFO : topic #11 (0.050): 0.032*\"football\" + 0.026*\"league\" + 0.026*\"cup\" + 0.025*\"team\" + 0.025*\"played\" + 0.024*\"club\" + 0.017*\"goals\" + 0.014*\"player\" + 0.013*\"fifa\" + 0.012*\"footballer\"\n",
      "2020-11-03 05:59:35,407 : INFO : topic #5 (0.050): 0.005*\"interview\" + 0.005*\"church\" + 0.004*\"catholic\" + 0.004*\"roman\" + 0.004*\"temple\" + 0.004*\"polish\" + 0.003*\"cantons\" + 0.003*\"king\" + 0.003*\"israel\" + 0.003*\"knesset\"\n",
      "2020-11-03 05:59:35,409 : INFO : topic #12 (0.050): 0.010*\"bio\" + 0.009*\"species\" + 0.008*\"fish\" + 0.007*\"water\" + 0.006*\"plant\" + 0.005*\"fruit\" + 0.005*\"food\" + 0.004*\"plants\" + 0.004*\"tree\" + 0.004*\"precipitation\"\n",
      "2020-11-03 05:59:35,412 : INFO : topic #7 (0.050): 0.020*\"tributaries\" + 0.014*\"pakistan\" + 0.013*\"punjab\" + 0.011*\"lahore\" + 0.011*\"tributary\" + 0.010*\"afghanistan\" + 0.010*\"disability\" + 0.010*\"situated\" + 0.010*\"ahmad\" + 0.009*\"afghan\"\n",
      "2020-11-03 05:59:35,413 : INFO : topic diff=0.044317, rho=0.150756\n",
      "2020-11-03 05:59:35,512 : INFO : PROGRESS: pass 0, at document #90000/94865\n",
      "2020-11-03 05:59:36,049 : INFO : merging changes from 2000 documents into a model of 94865 documents\n",
      "2020-11-03 05:59:36,077 : INFO : topic #10 (0.050): 0.012*\"movie\" + 0.009*\"album\" + 0.008*\"song\" + 0.007*\"released\" + 0.006*\"television\" + 0.006*\"actor\" + 0.006*\"series\" + 0.005*\"singer\" + 0.005*\"roles\" + 0.005*\"award\"\n",
      "2020-11-03 05:59:36,078 : INFO : topic #1 (0.050): 0.011*\"chn\" + 0.010*\"dna\" + 0.009*\"chemical\" + 0.009*\"cell\" + 0.007*\"acid\" + 0.007*\"cells\" + 0.007*\"iron\" + 0.006*\"carbon\" + 0.006*\"lgbt\" + 0.005*\"protein\"\n",
      "2020-11-03 05:59:36,080 : INFO : topic #12 (0.050): 0.010*\"bio\" + 0.010*\"species\" + 0.008*\"water\" + 0.008*\"fish\" + 0.006*\"plant\" + 0.005*\"food\" + 0.005*\"fruit\" + 0.004*\"lake\" + 0.004*\"plants\" + 0.004*\"tree\"\n",
      "2020-11-03 05:59:36,082 : INFO : topic #8 (0.050): 0.007*\"age\" + 0.006*\"aged\" + 0.005*\"april\" + 0.005*\"february\" + 0.005*\"july\" + 0.004*\"august\" + 0.004*\"cancer\" + 0.004*\"de\" + 0.004*\"june\" + 0.004*\"september\"\n",
      "2020-11-03 05:59:36,084 : INFO : topic #13 (0.050): 0.028*\"aires\" + 0.028*\"buenos\" + 0.021*\"argentine\" + 0.015*\"argentina\" + 0.012*\"http\" + 0.012*\"hawks\" + 0.012*\"www\" + 0.010*\"https\" + 0.009*\"wiki\" + 0.009*\"org\"\n",
      "2020-11-03 05:59:36,086 : INFO : topic diff=0.037267, rho=0.149071\n",
      "2020-11-03 05:59:36,178 : INFO : PROGRESS: pass 0, at document #92000/94865\n",
      "2020-11-03 05:59:36,696 : INFO : merging changes from 2000 documents into a model of 94865 documents\n",
      "2020-11-03 05:59:36,724 : INFO : topic #18 (0.050): 0.007*\"nbc\" + 0.007*\"utc\" + 0.006*\"faculty\" + 0.006*\"cbs\" + 0.006*\"cohen\" + 0.005*\"tehran\" + 0.005*\"congressman\" + 0.005*\"eurovision\" + 0.004*\"sitcom\" + 0.004*\"sox\"\n",
      "2020-11-03 05:59:36,726 : INFO : topic #4 (0.050): 0.002*\"person\" + 0.002*\"competed\" + 0.002*\"if\" + 0.002*\"will\" + 0.002*\"would\" + 0.002*\"book\" + 0.002*\"use\" + 0.002*\"work\" + 0.002*\"each\" + 0.002*\"said\"\n",
      "2020-11-03 05:59:36,727 : INFO : topic #1 (0.050): 0.010*\"dna\" + 0.010*\"chn\" + 0.009*\"cell\" + 0.009*\"chemical\" + 0.007*\"lgbt\" + 0.007*\"cells\" + 0.006*\"acid\" + 0.006*\"iron\" + 0.006*\"carbon\" + 0.006*\"protein\"\n",
      "2020-11-03 05:59:36,729 : INFO : topic #9 (0.050): 0.034*\"tamil\" + 0.029*\"india\" + 0.024*\"nadu\" + 0.022*\"indian\" + 0.019*\"kerala\" + 0.014*\"pradesh\" + 0.013*\"literacy\" + 0.012*\"airport\" + 0.012*\"delhi\" + 0.011*\"chennai\"\n",
      "2020-11-03 05:59:36,730 : INFO : topic #12 (0.050): 0.011*\"bio\" + 0.009*\"species\" + 0.008*\"water\" + 0.008*\"fish\" + 0.006*\"fruit\" + 0.006*\"food\" + 0.006*\"plant\" + 0.004*\"rice\" + 0.004*\"lake\" + 0.004*\"tree\"\n",
      "2020-11-03 05:59:36,732 : INFO : topic diff=0.051247, rho=0.147442\n",
      "2020-11-03 05:59:36,830 : INFO : PROGRESS: pass 0, at document #94000/94865\n",
      "2020-11-03 05:59:37,553 : INFO : merging changes from 2000 documents into a model of 94865 documents\n",
      "2020-11-03 05:59:37,596 : INFO : topic #11 (0.050): 0.030*\"football\" + 0.026*\"cup\" + 0.026*\"league\" + 0.024*\"played\" + 0.022*\"team\" + 0.020*\"club\" + 0.016*\"goals\" + 0.013*\"uefa\" + 0.013*\"player\" + 0.013*\"footballer\"\n",
      "2020-11-03 05:59:37,598 : INFO : topic #6 (0.050): 0.013*\"game\" + 0.007*\"computer\" + 0.006*\"physics\" + 0.005*\"star\" + 0.005*\"space\" + 0.004*\"galaxy\" + 0.004*\"system\" + 0.004*\"wwe\" + 0.004*\"windows\" + 0.004*\"software\"\n",
      "2020-11-03 05:59:37,599 : INFO : topic #14 (0.050): 0.009*\"politician\" + 0.008*\"party\" + 0.007*\"served\" + 0.007*\"president\" + 0.007*\"member\" + 0.006*\"election\" + 0.006*\"minister\" + 0.005*\"democratic\" + 0.004*\"chicago\" + 0.004*\"republican\"\n",
      "2020-11-03 05:59:37,601 : INFO : topic #0 (0.050): 0.014*\"constituency\" + 0.006*\"circuit\" + 0.006*\"theorem\" + 0.005*\"electrical\" + 0.005*\"electric\" + 0.005*\"function\" + 0.005*\"carmen\" + 0.005*\"rifle\" + 0.004*\"engine\" + 0.004*\"power\"\n",
      "2020-11-03 05:59:37,604 : INFO : topic #8 (0.050): 0.008*\"age\" + 0.005*\"aged\" + 0.005*\"july\" + 0.005*\"september\" + 0.005*\"august\" + 0.005*\"april\" + 0.005*\"june\" + 0.004*\"october\" + 0.004*\"cancer\" + 0.004*\"november\"\n",
      "2020-11-03 05:59:37,606 : INFO : topic diff=0.044494, rho=0.145865\n",
      "2020-11-03 05:59:38,096 : INFO : -13.741 per-word bound, 13691.6 perplexity estimate based on a held-out corpus of 865 documents with 4616 words\n",
      "2020-11-03 05:59:38,097 : INFO : PROGRESS: pass 0, at document #94865/94865\n",
      "2020-11-03 05:59:38,324 : INFO : merging changes from 865 documents into a model of 94865 documents\n",
      "2020-11-03 05:59:38,355 : INFO : topic #3 (0.050): 0.004*\"de\" + 0.004*\"district\" + 0.003*\"px\" + 0.003*\"population\" + 0.003*\"province\" + 0.003*\"river\" + 0.003*\"department\" + 0.003*\"war\" + 0.003*\"municipality\" + 0.003*\"saint\"\n",
      "2020-11-03 05:59:38,356 : INFO : topic #11 (0.050): 0.032*\"football\" + 0.025*\"played\" + 0.025*\"cup\" + 0.025*\"league\" + 0.022*\"team\" + 0.019*\"club\" + 0.015*\"goals\" + 0.013*\"player\" + 0.013*\"footballer\" + 0.013*\"fifa\"\n",
      "2020-11-03 05:59:38,358 : INFO : topic #1 (0.050): 0.010*\"dna\" + 0.009*\"chemical\" + 0.009*\"cell\" + 0.008*\"chemistry\" + 0.007*\"protein\" + 0.007*\"chn\" + 0.006*\"cells\" + 0.006*\"carbon\" + 0.006*\"iron\" + 0.005*\"acid\"\n",
      "2020-11-03 05:59:38,359 : INFO : topic #14 (0.050): 0.009*\"politician\" + 0.008*\"party\" + 0.007*\"president\" + 0.007*\"member\" + 0.006*\"served\" + 0.006*\"election\" + 0.006*\"minister\" + 0.005*\"democratic\" + 0.004*\"complications\" + 0.004*\"px\"\n",
      "2020-11-03 05:59:38,360 : INFO : topic #10 (0.050): 0.012*\"movie\" + 0.008*\"song\" + 0.008*\"album\" + 0.008*\"series\" + 0.007*\"released\" + 0.006*\"television\" + 0.006*\"actor\" + 0.006*\"roles\" + 0.005*\"singer\" + 0.005*\"film\"\n",
      "2020-11-03 05:59:38,362 : INFO : topic diff=0.039457, rho=0.144338\n"
     ]
    }
   ],
   "source": [
    "lda = gensim.models.ldamodel.LdaModel(corpus=mm, id2word=id2word, num_topics=20, update_every=1, passes=1)"
   ]
  },
  {
   "cell_type": "code",
   "execution_count": 12,
   "metadata": {},
   "outputs": [
    {
     "data": {
      "text/plain": [
       "[(0, '0.013*\"constituency\"'),\n",
       " (1, '0.010*\"dna\"'),\n",
       " (2, '0.022*\"commune\"'),\n",
       " (3, '0.004*\"de\"'),\n",
       " (4, '0.002*\"competed\"'),\n",
       " (5, '0.006*\"interview\"'),\n",
       " (6, '0.013*\"game\"'),\n",
       " (7, '0.016*\"pakistan\"'),\n",
       " (8, '0.008*\"age\"'),\n",
       " (9, '0.031*\"india\"'),\n",
       " (10, '0.012*\"movie\"'),\n",
       " (11, '0.032*\"football\"'),\n",
       " (12, '0.009*\"species\"'),\n",
       " (13, '0.036*\"aires\"'),\n",
       " (14, '0.009*\"politician\"'),\n",
       " (15, '0.027*\"hurricane\"'),\n",
       " (16, '0.094*\"county\"'),\n",
       " (17, '0.029*\"university\"'),\n",
       " (18, '0.007*\"nbc\"'),\n",
       " (19, '0.008*\"species\"')]"
      ]
     },
     "execution_count": 12,
     "metadata": {},
     "output_type": "execute_result"
    }
   ],
   "source": [
    "lda.show_topics(num_topics=20, num_words=1, log=False, formatted=True)"
   ]
  },
  {
   "cell_type": "code",
   "execution_count": 13,
   "metadata": {},
   "outputs": [],
   "source": [
    "def replace_at_index0(tup):\n",
    "    lst = list(tup)\n",
    "    lst[0] = \"Topic\" + str(lst[0])\n",
    "    return tuple(lst)"
   ]
  },
  {
   "cell_type": "code",
   "execution_count": 14,
   "metadata": {},
   "outputs": [],
   "source": [
    "test = lda.show_topics(num_topics=20, num_words=10, log=False, formatted=True)"
   ]
  },
  {
   "cell_type": "code",
   "execution_count": 15,
   "metadata": {},
   "outputs": [
    {
     "name": "stdout",
     "output_type": "stream",
     "text": [
      "[('Topic0', '0.013*\"constituency\" + 0.007*\"circuit\" + 0.006*\"certifications\" + 0.006*\"carmen\" + 0.005*\"function\" + 0.005*\"theorem\" + 0.005*\"mp\" + 0.005*\"electrical\" + 0.005*\"device\" + 0.004*\"electric\"'), ('Topic1', '0.010*\"dna\" + 0.009*\"chemical\" + 0.009*\"cell\" + 0.008*\"chemistry\" + 0.007*\"protein\" + 0.007*\"chn\" + 0.006*\"cells\" + 0.006*\"carbon\" + 0.006*\"iron\" + 0.005*\"acid\"'), ('Topic2', '0.022*\"commune\" + 0.017*\"loire\" + 0.009*\"altitude\" + 0.009*\"alpes\" + 0.009*\"iphone\" + 0.008*\"app\" + 0.008*\"rhône\" + 0.008*\"ios\" + 0.007*\"acute\" + 0.007*\"pays\"'), ('Topic3', '0.004*\"de\" + 0.004*\"district\" + 0.003*\"px\" + 0.003*\"population\" + 0.003*\"province\" + 0.003*\"river\" + 0.003*\"department\" + 0.003*\"war\" + 0.003*\"municipality\" + 0.003*\"saint\"'), ('Topic4', '0.002*\"competed\" + 0.002*\"will\" + 0.002*\"if\" + 0.002*\"person\" + 0.002*\"would\" + 0.002*\"use\" + 0.002*\"said\" + 0.002*\"book\" + 0.002*\"each\" + 0.002*\"work\"'), ('Topic5', '0.006*\"interview\" + 0.005*\"catholic\" + 0.004*\"church\" + 0.004*\"bishop\" + 0.004*\"roman\" + 0.004*\"temple\" + 0.004*\"polish\" + 0.003*\"singh\" + 0.003*\"italian\" + 0.003*\"poland\"'), ('Topic6', '0.013*\"game\" + 0.007*\"computer\" + 0.006*\"windows\" + 0.006*\"wwe\" + 0.005*\"star\" + 0.005*\"physics\" + 0.005*\"space\" + 0.004*\"system\" + 0.004*\"galaxy\" + 0.003*\"data\"'), ('Topic7', '0.016*\"pakistan\" + 0.016*\"punjab\" + 0.014*\"tributaries\" + 0.012*\"situated\" + 0.011*\"lahore\" + 0.011*\"urdu\" + 0.010*\"bundestag\" + 0.010*\"tributary\" + 0.010*\"afghan\" + 0.008*\"disability\"'), ('Topic8', '0.008*\"age\" + 0.006*\"aged\" + 0.006*\"february\" + 0.005*\"september\" + 0.005*\"july\" + 0.005*\"december\" + 0.005*\"august\" + 0.004*\"cancer\" + 0.004*\"april\" + 0.004*\"june\"'), ('Topic9', '0.031*\"india\" + 0.028*\"tamil\" + 0.026*\"indian\" + 0.019*\"nadu\" + 0.018*\"kerala\" + 0.014*\"delhi\" + 0.014*\"pradesh\" + 0.014*\"airport\" + 0.010*\"flight\" + 0.010*\"chennai\"'), ('Topic10', '0.012*\"movie\" + 0.008*\"song\" + 0.008*\"album\" + 0.008*\"series\" + 0.007*\"released\" + 0.006*\"television\" + 0.006*\"actor\" + 0.006*\"roles\" + 0.005*\"singer\" + 0.005*\"film\"'), ('Topic11', '0.032*\"football\" + 0.025*\"played\" + 0.025*\"cup\" + 0.025*\"league\" + 0.022*\"team\" + 0.019*\"club\" + 0.015*\"goals\" + 0.013*\"player\" + 0.013*\"footballer\" + 0.013*\"fifa\"'), ('Topic12', '0.009*\"species\" + 0.009*\"water\" + 0.009*\"bio\" + 0.008*\"fish\" + 0.006*\"food\" + 0.005*\"fruit\" + 0.005*\"plant\" + 0.004*\"cm\" + 0.004*\"fossil\" + 0.004*\"tree\"'), ('Topic13', '0.036*\"aires\" + 0.035*\"buenos\" + 0.025*\"argentine\" + 0.014*\"argentina\" + 0.012*\"hyderabad\" + 0.011*\"https\" + 0.011*\"http\" + 0.010*\"hawks\" + 0.010*\"www\" + 0.008*\"hogan\"'), ('Topic14', '0.009*\"politician\" + 0.008*\"party\" + 0.007*\"president\" + 0.007*\"member\" + 0.006*\"served\" + 0.006*\"election\" + 0.006*\"minister\" + 0.005*\"democratic\" + 0.004*\"complications\" + 0.004*\"px\"'), ('Topic15', '0.027*\"hurricane\" + 0.024*\"nhl\" + 0.022*\"brazilian\" + 0.021*\"storm\" + 0.017*\"vocals\" + 0.017*\"paulo\" + 0.015*\"brazil\" + 0.014*\"são\" + 0.014*\"rio\" + 0.014*\"janeiro\"'), ('Topic16', '0.094*\"county\" + 0.034*\"census\" + 0.019*\"seat\" + 0.019*\"population\" + 0.019*\"district\" + 0.017*\"river\" + 0.012*\"area\" + 0.012*\"town\" + 0.011*\"communities\" + 0.011*\"lake\"'), ('Topic17', '0.029*\"university\" + 0.016*\"school\" + 0.013*\"research\" + 0.012*\"professor\" + 0.012*\"sciences\" + 0.010*\"institute\" + 0.010*\"college\" + 0.008*\"students\" + 0.008*\"german\" + 0.008*\"science\"'), ('Topic18', '0.007*\"nbc\" + 0.007*\"faculty\" + 0.006*\"franchise\" + 0.006*\"congressman\" + 0.006*\"cohen\" + 0.005*\"tehran\" + 0.005*\"utc\" + 0.005*\"cbs\" + 0.005*\"eurovision\" + 0.005*\"openly\"'), ('Topic19', '0.008*\"species\" + 0.004*\"respiratory\" + 0.004*\"genus\" + 0.004*\"found\" + 0.004*\"birds\" + 0.003*\"tail\" + 0.003*\"jurassic\" + 0.003*\"body\" + 0.003*\"blood\" + 0.003*\"disease\"')]\n"
     ]
    }
   ],
   "source": [
    "for i in range(0,len(test)):\n",
    "    test[i] = replace_at_index0(test[i])\n",
    "print(test)\n"
   ]
  },
  {
   "cell_type": "code",
   "execution_count": 16,
   "metadata": {},
   "outputs": [
    {
     "data": {
      "text/plain": [
       "list"
      ]
     },
     "execution_count": 16,
     "metadata": {},
     "output_type": "execute_result"
    }
   ],
   "source": [
    "type(test)"
   ]
  },
  {
   "cell_type": "code",
   "execution_count": 17,
   "metadata": {},
   "outputs": [
    {
     "name": "stdout",
     "output_type": "stream",
     "text": [
      "('Topic0', '0.013*\"constituency\" + 0.007*\"circuit\" + 0.006*\"certifications\" + 0.006*\"carmen\" + 0.005*\"function\" + 0.005*\"theorem\" + 0.005*\"mp\" + 0.005*\"electrical\" + 0.005*\"device\" + 0.004*\"electric\"') \n",
      "\n",
      "('Topic1', '0.010*\"dna\" + 0.009*\"chemical\" + 0.009*\"cell\" + 0.008*\"chemistry\" + 0.007*\"protein\" + 0.007*\"chn\" + 0.006*\"cells\" + 0.006*\"carbon\" + 0.006*\"iron\" + 0.005*\"acid\"') \n",
      "\n",
      "('Topic2', '0.022*\"commune\" + 0.017*\"loire\" + 0.009*\"altitude\" + 0.009*\"alpes\" + 0.009*\"iphone\" + 0.008*\"app\" + 0.008*\"rhône\" + 0.008*\"ios\" + 0.007*\"acute\" + 0.007*\"pays\"') \n",
      "\n",
      "('Topic3', '0.004*\"de\" + 0.004*\"district\" + 0.003*\"px\" + 0.003*\"population\" + 0.003*\"province\" + 0.003*\"river\" + 0.003*\"department\" + 0.003*\"war\" + 0.003*\"municipality\" + 0.003*\"saint\"') \n",
      "\n",
      "('Topic4', '0.002*\"competed\" + 0.002*\"will\" + 0.002*\"if\" + 0.002*\"person\" + 0.002*\"would\" + 0.002*\"use\" + 0.002*\"said\" + 0.002*\"book\" + 0.002*\"each\" + 0.002*\"work\"') \n",
      "\n",
      "('Topic5', '0.006*\"interview\" + 0.005*\"catholic\" + 0.004*\"church\" + 0.004*\"bishop\" + 0.004*\"roman\" + 0.004*\"temple\" + 0.004*\"polish\" + 0.003*\"singh\" + 0.003*\"italian\" + 0.003*\"poland\"') \n",
      "\n",
      "('Topic6', '0.013*\"game\" + 0.007*\"computer\" + 0.006*\"windows\" + 0.006*\"wwe\" + 0.005*\"star\" + 0.005*\"physics\" + 0.005*\"space\" + 0.004*\"system\" + 0.004*\"galaxy\" + 0.003*\"data\"') \n",
      "\n",
      "('Topic7', '0.016*\"pakistan\" + 0.016*\"punjab\" + 0.014*\"tributaries\" + 0.012*\"situated\" + 0.011*\"lahore\" + 0.011*\"urdu\" + 0.010*\"bundestag\" + 0.010*\"tributary\" + 0.010*\"afghan\" + 0.008*\"disability\"') \n",
      "\n",
      "('Topic8', '0.008*\"age\" + 0.006*\"aged\" + 0.006*\"february\" + 0.005*\"september\" + 0.005*\"july\" + 0.005*\"december\" + 0.005*\"august\" + 0.004*\"cancer\" + 0.004*\"april\" + 0.004*\"june\"') \n",
      "\n",
      "('Topic9', '0.031*\"india\" + 0.028*\"tamil\" + 0.026*\"indian\" + 0.019*\"nadu\" + 0.018*\"kerala\" + 0.014*\"delhi\" + 0.014*\"pradesh\" + 0.014*\"airport\" + 0.010*\"flight\" + 0.010*\"chennai\"') \n",
      "\n",
      "('Topic10', '0.012*\"movie\" + 0.008*\"song\" + 0.008*\"album\" + 0.008*\"series\" + 0.007*\"released\" + 0.006*\"television\" + 0.006*\"actor\" + 0.006*\"roles\" + 0.005*\"singer\" + 0.005*\"film\"') \n",
      "\n",
      "('Topic11', '0.032*\"football\" + 0.025*\"played\" + 0.025*\"cup\" + 0.025*\"league\" + 0.022*\"team\" + 0.019*\"club\" + 0.015*\"goals\" + 0.013*\"player\" + 0.013*\"footballer\" + 0.013*\"fifa\"') \n",
      "\n",
      "('Topic12', '0.009*\"species\" + 0.009*\"water\" + 0.009*\"bio\" + 0.008*\"fish\" + 0.006*\"food\" + 0.005*\"fruit\" + 0.005*\"plant\" + 0.004*\"cm\" + 0.004*\"fossil\" + 0.004*\"tree\"') \n",
      "\n",
      "('Topic13', '0.036*\"aires\" + 0.035*\"buenos\" + 0.025*\"argentine\" + 0.014*\"argentina\" + 0.012*\"hyderabad\" + 0.011*\"https\" + 0.011*\"http\" + 0.010*\"hawks\" + 0.010*\"www\" + 0.008*\"hogan\"') \n",
      "\n",
      "('Topic14', '0.009*\"politician\" + 0.008*\"party\" + 0.007*\"president\" + 0.007*\"member\" + 0.006*\"served\" + 0.006*\"election\" + 0.006*\"minister\" + 0.005*\"democratic\" + 0.004*\"complications\" + 0.004*\"px\"') \n",
      "\n",
      "('Topic15', '0.027*\"hurricane\" + 0.024*\"nhl\" + 0.022*\"brazilian\" + 0.021*\"storm\" + 0.017*\"vocals\" + 0.017*\"paulo\" + 0.015*\"brazil\" + 0.014*\"são\" + 0.014*\"rio\" + 0.014*\"janeiro\"') \n",
      "\n",
      "('Topic16', '0.094*\"county\" + 0.034*\"census\" + 0.019*\"seat\" + 0.019*\"population\" + 0.019*\"district\" + 0.017*\"river\" + 0.012*\"area\" + 0.012*\"town\" + 0.011*\"communities\" + 0.011*\"lake\"') \n",
      "\n",
      "('Topic17', '0.029*\"university\" + 0.016*\"school\" + 0.013*\"research\" + 0.012*\"professor\" + 0.012*\"sciences\" + 0.010*\"institute\" + 0.010*\"college\" + 0.008*\"students\" + 0.008*\"german\" + 0.008*\"science\"') \n",
      "\n",
      "('Topic18', '0.007*\"nbc\" + 0.007*\"faculty\" + 0.006*\"franchise\" + 0.006*\"congressman\" + 0.006*\"cohen\" + 0.005*\"tehran\" + 0.005*\"utc\" + 0.005*\"cbs\" + 0.005*\"eurovision\" + 0.005*\"openly\"') \n",
      "\n",
      "('Topic19', '0.008*\"species\" + 0.004*\"respiratory\" + 0.004*\"genus\" + 0.004*\"found\" + 0.004*\"birds\" + 0.003*\"tail\" + 0.003*\"jurassic\" + 0.003*\"body\" + 0.003*\"blood\" + 0.003*\"disease\"') \n",
      "\n"
     ]
    }
   ],
   "source": [
    "for i in range(0,len(test)):\n",
    "    print(test[i], '\\n')"
   ]
  },
  {
   "cell_type": "code",
   "execution_count": 18,
   "metadata": {},
   "outputs": [],
   "source": [
    "def get_lemma(word):\n",
    "    lemma = wn.morphy(word)\n",
    "    if lemma is None:\n",
    "        return word\n",
    "    else:\n",
    "        return lemma"
   ]
  },
  {
   "cell_type": "code",
   "execution_count": 19,
   "metadata": {},
   "outputs": [],
   "source": [
    " def prepare_text_for_lda(text):\n",
    "    tokens = tokenize(text)\n",
    "    tokens = [token for token in tokens if len(token) > 4]\n",
    "    tokens = [token for token in tokens if token not in en_stop]\n",
    "    tokens = [get_lemma(token) for token in tokens]\n",
    "    return tokens"
   ]
  },
  {
   "cell_type": "code",
   "execution_count": 20,
   "metadata": {},
   "outputs": [],
   "source": [
    "def tokenize(text):\n",
    "    lda_tokens = []\n",
    "    tokens = parser(text)\n",
    "    for token in tokens:\n",
    "        if token.orth_.isspace():\n",
    "            continue\n",
    "        elif token.like_url:\n",
    "            lda_tokens.append('URL')\n",
    "        elif token.orth_.startswith('@'):\n",
    "            lda_tokens.append('SCREEN_NAME')\n",
    "        else:\n",
    "            lda_tokens.append(token.lower_)\n",
    "    return lda_tokens"
   ]
  },
  {
   "cell_type": "code",
   "execution_count": 21,
   "metadata": {},
   "outputs": [],
   "source": [
    "def getContent():\n",
    "    response = requests.get(\"http://en.wikipedia.org/wiki/Special:Randompage\")\n",
    "    print(response.url)\n",
    "    page = ''.join(reversed(''.join(reversed(response.url)).split('/')[0]))\n",
    "    print(page)\n",
    "    wiki_wiki = wikipediaapi.Wikipedia(\n",
    "        language='en',\n",
    "        extract_format=wikipediaapi.ExtractFormat.WIKI\n",
    "    )\n",
    "    p_wiki = wiki_wiki.page(page)\n",
    "    return(p_wiki.text)"
   ]
  },
  {
   "cell_type": "code",
   "execution_count": 22,
   "metadata": {},
   "outputs": [],
   "source": [
    "import gensim\n",
    "from nltk.corpus import brown\n",
    "from gensim.corpora import Dictionary"
   ]
  },
  {
   "cell_type": "code",
   "execution_count": 23,
   "metadata": {},
   "outputs": [
    {
     "data": {
      "text/plain": [
       "<function __main__.prepare_text_for_lda(text)>"
      ]
     },
     "execution_count": 23,
     "metadata": {},
     "output_type": "execute_result"
    }
   ],
   "source": [
    "prepare_text_for_lda"
   ]
  },
  {
   "cell_type": "code",
   "execution_count": 24,
   "metadata": {},
   "outputs": [
    {
     "name": "stderr",
     "output_type": "stream",
     "text": [
      "2020-11-03 05:59:39,103 : INFO : Request URL: https://en.wikipedia.org/w/api.php?action=query&prop=extracts&titles=Luther_Porter_Jackson&explaintext=1&exsectionformat=wiki\n"
     ]
    },
    {
     "name": "stdout",
     "output_type": "stream",
     "text": [
      "https://en.wikipedia.org/wiki/Luther_Porter_Jackson\n",
      "Luther_Porter_Jackson\n"
     ]
    },
    {
     "name": "stderr",
     "output_type": "stream",
     "text": [
      "2020-11-03 05:59:41,350 : INFO : adding document #0 to Dictionary(0 unique tokens: [])\n",
      "2020-11-03 05:59:41,351 : INFO : built Dictionary(363 unique tokens: ['10,000', '12,000', '1865–1895', '1920s', '1940s']...) from 1 documents (total 741 corpus positions)\n",
      "2020-11-03 05:59:41,363 : INFO : saving Dictionary object under dictionary.gensim, separately None\n",
      "2020-11-03 05:59:41,365 : INFO : saved dictionary.gensim\n"
     ]
    },
    {
     "name": "stdout",
     "output_type": "stream",
     "text": [
      "[(0, 0.040684097), (3, 0.32422557), (4, 0.25308567), (5, 0.11145107), (8, 0.128263), (14, 0.07335506), (15, 0.03373811), (18, 0.015641198)]\n",
      "[(8, '0.008*\"age\"'), (9, '0.031*\"india\"'), (18, '0.007*\"nbc\"'), (13, '0.036*\"aires\"'), (5, '0.006*\"interview\"')]\n"
     ]
    },
    {
     "name": "stderr",
     "output_type": "stream",
     "text": [
      "2020-11-03 05:59:41,600 : INFO : Request URL: https://en.wikipedia.org/w/api.php?action=query&prop=extracts&titles=Elleben&explaintext=1&exsectionformat=wiki\n",
      "2020-11-03 05:59:41,799 : INFO : adding document #0 to Dictionary(0 unique tokens: [])\n",
      "2020-11-03 05:59:41,800 : INFO : built Dictionary(20 unique tokens: ['community', 'district', 'duchy', 'elleben', 'empire']...) from 1 documents (total 24 corpus positions)\n"
     ]
    },
    {
     "name": "stdout",
     "output_type": "stream",
     "text": [
      "https://en.wikipedia.org/wiki/Elleben\n",
      "Elleben\n"
     ]
    },
    {
     "name": "stderr",
     "output_type": "stream",
     "text": [
      "2020-11-03 05:59:41,803 : INFO : saving Dictionary object under dictionary.gensim, separately None\n",
      "2020-11-03 05:59:41,804 : INFO : saved dictionary.gensim\n"
     ]
    },
    {
     "name": "stdout",
     "output_type": "stream",
     "text": [
      "[(3, 0.49279425), (4, 0.2076835), (8, 0.26250052)]\n",
      "[(12, '0.009*\"species\"'), (18, '0.007*\"nbc\"'), (0, '0.013*\"constituency\"'), (5, '0.006*\"interview\"'), (11, '0.032*\"football\"')]\n"
     ]
    },
    {
     "name": "stderr",
     "output_type": "stream",
     "text": [
      "2020-11-03 05:59:42,165 : INFO : Request URL: https://en.wikipedia.org/w/api.php?action=query&prop=extracts&titles=Gottfried_von_der_Goltz&explaintext=1&exsectionformat=wiki\n",
      "2020-11-03 05:59:42,321 : INFO : adding document #0 to Dictionary(0 unique tokens: [])\n",
      "2020-11-03 05:59:42,322 : INFO : built Dictionary(91 unique tokens: ['ancient', 'artistic', 'baltic', 'baltische', 'barockorchester']...) from 1 documents (total 119 corpus positions)\n",
      "2020-11-03 05:59:42,325 : INFO : saving Dictionary object under dictionary.gensim, separately None\n",
      "2020-11-03 05:59:42,326 : INFO : saved dictionary.gensim\n"
     ]
    },
    {
     "name": "stdout",
     "output_type": "stream",
     "text": [
      "https://en.wikipedia.org/wiki/Gottfried_von_der_Goltz\n",
      "Gottfried_von_der_Goltz\n",
      "[(2, 0.010916961), (3, 0.4070395), (4, 0.30209693), (5, 0.062153127), (6, 0.012575464), (8, 0.11029139), (13, 0.011311987), (14, 0.03965806), (15, 0.014602439), (18, 0.024705768)]\n",
      "[(5, '0.006*\"interview\"'), (11, '0.032*\"football\"'), (14, '0.009*\"politician\"'), (9, '0.031*\"india\"'), (18, '0.007*\"nbc\"')]\n"
     ]
    }
   ],
   "source": [
    "for i in range(0,3):\n",
    "    content = getContent()\n",
    "    with open(\"/users/rohitbhardwaj/desktop/randomfile\"+str(i+1)+\".txt\", \"w\") as f: \n",
    "        f.write(content) \n",
    "    dictionary = Dictionary([prepare_text_for_lda(content)])\n",
    "    corpus = [dictionary.doc2bow(text) for text in [prepare_text_for_lda(content)] ]\n",
    "    pickle.dump(corpus, open('corpus.pkl', 'wb'))\n",
    "    dictionary.save('dictionary.gensim')\n",
    "    new_doc = prepare_text_for_lda(content)\n",
    "    new_doc_bow = dictionary.doc2bow(new_doc)\n",
    "    print(lda.get_document_topics(new_doc_bow))\n",
    "    print(lda.show_topics(num_topics=5, num_words=1, log=False, formatted=True))\n",
    "   "
   ]
  },
  {
   "cell_type": "code",
   "execution_count": null,
   "metadata": {},
   "outputs": [],
   "source": []
  },
  {
   "cell_type": "code",
   "execution_count": null,
   "metadata": {},
   "outputs": [],
   "source": []
  },
  {
   "cell_type": "code",
   "execution_count": null,
   "metadata": {},
   "outputs": [],
   "source": []
  },
  {
   "cell_type": "code",
   "execution_count": null,
   "metadata": {},
   "outputs": [],
   "source": []
  },
  {
   "cell_type": "code",
   "execution_count": null,
   "metadata": {},
   "outputs": [],
   "source": []
  },
  {
   "cell_type": "code",
   "execution_count": null,
   "metadata": {},
   "outputs": [],
   "source": []
  },
  {
   "cell_type": "code",
   "execution_count": null,
   "metadata": {},
   "outputs": [],
   "source": []
  },
  {
   "cell_type": "code",
   "execution_count": null,
   "metadata": {},
   "outputs": [],
   "source": []
  }
 ],
 "metadata": {
  "kernelspec": {
   "display_name": "Python 3",
   "language": "python",
   "name": "python3"
  },
  "language_info": {
   "codemirror_mode": {
    "name": "ipython",
    "version": 3
   },
   "file_extension": ".py",
   "mimetype": "text/x-python",
   "name": "python",
   "nbconvert_exporter": "python",
   "pygments_lexer": "ipython3",
   "version": "3.7.4"
  }
 },
 "nbformat": 4,
 "nbformat_minor": 2
}
